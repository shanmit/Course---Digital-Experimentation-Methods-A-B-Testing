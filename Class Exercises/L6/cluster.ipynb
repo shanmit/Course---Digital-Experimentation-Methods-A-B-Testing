{
 "cells": [
  {
   "cell_type": "markdown",
   "metadata": {},
   "source": [
    "## Regression with Clustered Standard Errors"
   ]
  },
  {
   "cell_type": "code",
   "execution_count": 16,
   "metadata": {},
   "outputs": [],
   "source": [
    "import numpy as np, statsmodels.stats.api as sms\n",
    "import itertools\n",
    "import matplotlib.pyplot as plt\n",
    "from matplotlib.ticker import NullFormatter\n",
    "import pandas as pd\n",
    "import numpy as np\n",
    "import matplotlib.ticker as ticker\n",
    "import random\n",
    "from sklearn import preprocessing"
   ]
  },
  {
   "cell_type": "code",
   "execution_count": 17,
   "metadata": {},
   "outputs": [],
   "source": [
    "infile = 'exp_data_cluster.csv' \n",
    "data = pd.read_csv(infile)"
   ]
  },
  {
   "cell_type": "code",
   "execution_count": 18,
   "metadata": {},
   "outputs": [
    {
     "data": {
      "text/plain": [
       "(16000, 4)"
      ]
     },
     "execution_count": 18,
     "metadata": {},
     "output_type": "execute_result"
    }
   ],
   "source": [
    "data.shape"
   ]
  },
  {
   "cell_type": "code",
   "execution_count": 19,
   "metadata": {},
   "outputs": [
    {
     "data": {
      "text/html": [
       "<div>\n",
       "<style scoped>\n",
       "    .dataframe tbody tr th:only-of-type {\n",
       "        vertical-align: middle;\n",
       "    }\n",
       "\n",
       "    .dataframe tbody tr th {\n",
       "        vertical-align: top;\n",
       "    }\n",
       "\n",
       "    .dataframe thead th {\n",
       "        text-align: right;\n",
       "    }\n",
       "</style>\n",
       "<table border=\"1\" class=\"dataframe\">\n",
       "  <thead>\n",
       "    <tr style=\"text-align: right;\">\n",
       "      <th></th>\n",
       "      <th>user</th>\n",
       "      <th>adid</th>\n",
       "      <th>expid</th>\n",
       "      <th>if_click</th>\n",
       "    </tr>\n",
       "  </thead>\n",
       "  <tbody>\n",
       "    <tr>\n",
       "      <th>0</th>\n",
       "      <td>92092</td>\n",
       "      <td>1e4fb0d22340fdf9ee02b6ae4a7d9a83</td>\n",
       "      <td>1</td>\n",
       "      <td>0</td>\n",
       "    </tr>\n",
       "    <tr>\n",
       "      <th>1</th>\n",
       "      <td>878501</td>\n",
       "      <td>97fc187415fe1785d5ee02bfd348968e</td>\n",
       "      <td>0</td>\n",
       "      <td>0</td>\n",
       "    </tr>\n",
       "    <tr>\n",
       "      <th>2</th>\n",
       "      <td>266367</td>\n",
       "      <td>0b0fa14b56d3741178196daaa92e6a1e</td>\n",
       "      <td>1</td>\n",
       "      <td>0</td>\n",
       "    </tr>\n",
       "    <tr>\n",
       "      <th>3</th>\n",
       "      <td>329319</td>\n",
       "      <td>1f1fe825014d9e9a0881233d9950bd43</td>\n",
       "      <td>1</td>\n",
       "      <td>0</td>\n",
       "    </tr>\n",
       "    <tr>\n",
       "      <th>4</th>\n",
       "      <td>64672</td>\n",
       "      <td>5b2ae85128137e449eb015f6de78add5</td>\n",
       "      <td>0</td>\n",
       "      <td>0</td>\n",
       "    </tr>\n",
       "  </tbody>\n",
       "</table>\n",
       "</div>"
      ],
      "text/plain": [
       "     user                              adid  expid  if_click\n",
       "0   92092  1e4fb0d22340fdf9ee02b6ae4a7d9a83      1         0\n",
       "1  878501  97fc187415fe1785d5ee02bfd348968e      0         0\n",
       "2  266367  0b0fa14b56d3741178196daaa92e6a1e      1         0\n",
       "3  329319  1f1fe825014d9e9a0881233d9950bd43      1         0\n",
       "4   64672  5b2ae85128137e449eb015f6de78add5      0         0"
      ]
     },
     "execution_count": 19,
     "metadata": {},
     "output_type": "execute_result"
    }
   ],
   "source": [
    "data.head()"
   ]
  },
  {
   "cell_type": "code",
   "execution_count": 20,
   "metadata": {},
   "outputs": [],
   "source": [
    "import statsmodels.formula.api as smf"
   ]
  },
  {
   "cell_type": "markdown",
   "metadata": {},
   "source": [
    "#### OLS with Clustered SE"
   ]
  },
  {
   "cell_type": "code",
   "execution_count": 24,
   "metadata": {},
   "outputs": [
    {
     "name": "stdout",
     "output_type": "stream",
     "text": [
      "Result with cluster\n",
      "                 Results: Ordinary least squares\n",
      "==================================================================\n",
      "Model:              OLS              Adj. R-squared:     0.000    \n",
      "Dependent Variable: if_click         AIC:                1467.5819\n",
      "Date:               2023-02-06 20:39 BIC:                1482.9425\n",
      "No. Observations:   16000            Log-Likelihood:     -731.79  \n",
      "Df Model:           1                F-statistic:        6.710    \n",
      "Df Residuals:       15998            Prob (F-statistic): 0.00960  \n",
      "R-squared:          0.000            Scale:              0.064166 \n",
      "--------------------------------------------------------------------\n",
      "              Coef.    Std.Err.      z      P>|z|    [0.025   0.975]\n",
      "--------------------------------------------------------------------\n",
      "Intercept     0.0638     0.0027   23.3379   0.0000   0.0584   0.0691\n",
      "expid         0.0104     0.0040    2.5904   0.0096   0.0025   0.0182\n",
      "------------------------------------------------------------------\n",
      "Omnibus:             10828.253     Durbin-Watson:        2.012    \n",
      "Prob(Omnibus):       0.000         Jarque-Bera (JB):     91921.719\n",
      "Skew:                3.401         Prob(JB):             0.000    \n",
      "Kurtosis:            12.572        Condition No.:        3        \n",
      "==================================================================\n",
      "\n"
     ]
    }
   ],
   "source": [
    "# users' behaviors of the same ads are correlated.\n",
    "model = smf.ols(formula='if_click ~ expid', data=data)\n",
    "result = model.fit(cov_type='cluster', cov_kwds = {'groups': data.user})\n",
    "print('Result with cluster')\n",
    "print(result.summary2())"
   ]
  },
  {
   "cell_type": "markdown",
   "metadata": {},
   "source": [
    "#### OLS without Clustered SE"
   ]
  },
  {
   "cell_type": "code",
   "execution_count": 23,
   "metadata": {},
   "outputs": [
    {
     "name": "stdout",
     "output_type": "stream",
     "text": [
      "Result without cluster\n",
      "                 Results: Ordinary least squares\n",
      "==================================================================\n",
      "Model:              OLS              Adj. R-squared:     0.000    \n",
      "Dependent Variable: if_click         AIC:                1467.5819\n",
      "Date:               2023-02-06 20:39 BIC:                1482.9425\n",
      "No. Observations:   16000            Log-Likelihood:     -731.79  \n",
      "Df Model:           1                F-statistic:        6.710    \n",
      "Df Residuals:       15998            Prob (F-statistic): 0.00960  \n",
      "R-squared:          0.000            Scale:              0.064166 \n",
      "--------------------------------------------------------------------\n",
      "              Coef.    Std.Err.      t      P>|t|    [0.025   0.975]\n",
      "--------------------------------------------------------------------\n",
      "Intercept     0.0638     0.0028   22.5098   0.0000   0.0582   0.0693\n",
      "expid         0.0104     0.0040    2.5904   0.0096   0.0025   0.0182\n",
      "------------------------------------------------------------------\n",
      "Omnibus:             10828.253     Durbin-Watson:        2.012    \n",
      "Prob(Omnibus):       0.000         Jarque-Bera (JB):     91921.719\n",
      "Skew:                3.401         Prob(JB):             0.000    \n",
      "Kurtosis:            12.572        Condition No.:        3        \n",
      "==================================================================\n",
      "\n"
     ]
    }
   ],
   "source": [
    "result = model.fit()\n",
    "print('Result without cluster')\n",
    "print(result.summary2())"
   ]
  },
  {
   "cell_type": "markdown",
   "metadata": {},
   "source": [
    "#### Compare Means with t tests"
   ]
  },
  {
   "cell_type": "code",
   "execution_count": 7,
   "metadata": {},
   "outputs": [],
   "source": [
    "y0 = data[data['expid'] == 0]['if_click']"
   ]
  },
  {
   "cell_type": "code",
   "execution_count": 8,
   "metadata": {},
   "outputs": [
    {
     "name": "stdout",
     "output_type": "stream",
     "text": [
      "0.010374999999999995\n"
     ]
    }
   ],
   "source": [
    "y1 = data[data['expid'] == 1]['if_click']\n",
    "mean_d = np.mean(y1)-np.mean(y0)\n",
    "print(mean_d)"
   ]
  },
  {
   "cell_type": "code",
   "execution_count": 9,
   "metadata": {},
   "outputs": [
    {
     "name": "stdout",
     "output_type": "stream",
     "text": [
      "(-2.590388082735368, 0.009595515482880781, 15920.640661495236)\n"
     ]
    }
   ],
   "source": [
    "cm = sms.CompareMeans(sms.DescrStatsW(y0), sms.DescrStatsW(y1))\n",
    "print(cm.ttest_ind(alternative='two-sided', usevar='unequal'))"
   ]
  },
  {
   "cell_type": "code",
   "execution_count": null,
   "metadata": {},
   "outputs": [],
   "source": []
  },
  {
   "cell_type": "code",
   "execution_count": null,
   "metadata": {},
   "outputs": [],
   "source": []
  }
 ],
 "metadata": {
  "kernelspec": {
   "display_name": "Python 3",
   "language": "python",
   "name": "python3"
  },
  "language_info": {
   "codemirror_mode": {
    "name": "ipython",
    "version": 3
   },
   "file_extension": ".py",
   "mimetype": "text/x-python",
   "name": "python",
   "nbconvert_exporter": "python",
   "pygments_lexer": "ipython3",
   "version": "3.8.5"
  }
 },
 "nbformat": 4,
 "nbformat_minor": 4
}
