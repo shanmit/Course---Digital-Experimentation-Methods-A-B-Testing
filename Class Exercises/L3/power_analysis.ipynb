{
 "cells": [
  {
   "cell_type": "code",
   "execution_count": 1,
   "metadata": {},
   "outputs": [],
   "source": [
    "import numpy as np, statsmodels.stats.api as sms\n",
    "import itertools\n",
    "import numpy as np\n",
    "import matplotlib.pyplot as plt\n",
    "from matplotlib.ticker import NullFormatter\n",
    "import pandas as pd\n",
    "import numpy as np\n",
    "import matplotlib.ticker as ticker\n",
    "import random\n",
    "from sklearn import preprocessing"
   ]
  },
  {
   "cell_type": "markdown",
   "metadata": {},
   "source": [
    "## Type II Error & Power Analysis"
   ]
  },
  {
   "cell_type": "markdown",
   "metadata": {},
   "source": [
    "**Type II error:** you fail to reject that the program (new feature) had no effect, when in fact it does have an effect\n",
    "\n",
    "**Power** of a test is the probability that I will be able to find a significant effect in my experiment (given the effect size) (higher power is better since I am more likely to have an effect to report, if there is one.)"
   ]
  },
  {
   "cell_type": "code",
   "execution_count": 37,
   "metadata": {},
   "outputs": [
    {
     "name": "stdout",
     "output_type": "stream",
     "text": [
      "0.04999999999999982\n"
     ]
    }
   ],
   "source": [
    "# population characteristics \n",
    "mean=5\n",
    "lift = 1.05\n",
    "std=5\n",
    "control_m=5\n",
    "test_m=control_m*lift\n",
    "mean_d = test_m-control_m\n",
    "print(mean_d)"
   ]
  },
  {
   "cell_type": "code",
   "execution_count": 38,
   "metadata": {},
   "outputs": [],
   "source": [
    "ci=[]\n",
    "#Sample Size = k\n",
    "k = 5000\n",
    "for i in range(20):\n",
    "    ctrl = np.random.normal(5,std,k) \n",
    "    test = np.random.normal(5*lift,std,k)\n",
    "    cm = sms.CompareMeans(sms.DescrStatsW(test), sms.DescrStatsW(ctrl))\n",
    "    x,y = cm.tconfint_diff(alpha=0.05, alternative='two-sided', usevar='pooled')\n",
    "    ci.append((x,y))"
   ]
  },
  {
   "cell_type": "code",
   "execution_count": 39,
   "metadata": {},
   "outputs": [
    {
     "name": "stdout",
     "output_type": "stream",
     "text": [
      "    Number     lower     upper\n",
      "0        0 -0.286506  0.105335\n",
      "1        1 -0.103060  0.286510\n",
      "2        2 -0.252060  0.140100\n",
      "3        3 -0.254617  0.135477\n",
      "4        4 -0.137973  0.251378\n",
      "5        5 -0.209147  0.181451\n",
      "6        6 -0.124398  0.266207\n",
      "7        7 -0.100601  0.294328\n",
      "8        8 -0.299166  0.092022\n",
      "9        9 -0.092726  0.295471\n",
      "10      10 -0.127501  0.267060\n",
      "11      11 -0.083887  0.311578\n",
      "12      12 -0.037330  0.354725\n",
      "13      13 -0.090755  0.305088\n",
      "14      14 -0.202796  0.186090\n",
      "15      15 -0.386575  0.006042\n",
      "16      16 -0.195367  0.199727\n",
      "17      17 -0.206941  0.182682\n",
      "18      18 -0.119051  0.267100\n",
      "19      19 -0.093845  0.295387\n"
     ]
    }
   ],
   "source": [
    "# show CI\n",
    "data_dict = {}\n",
    "data_dict['Number'] = [x for x in range(20)]\n",
    "data_dict['lower'] = [x[0] for x in ci]\n",
    "data_dict['upper'] = [x[1] for x in ci]\n",
    "dataset = pd.DataFrame(data_dict)  \n",
    "print(dataset)"
   ]
  },
  {
   "cell_type": "code",
   "execution_count": 40,
   "metadata": {},
   "outputs": [
    {
     "data": {
      "image/png": "[encoded data removed]",
      "text/plain": [
       "<Figure size 432x288 with 1 Axes>"
      ]
     },
     "metadata": {
      "needs_background": "light"
     },
     "output_type": "display_data"
    }
   ],
   "source": [
    "#count the number of wrongly accepting the null, i.e., 0 is in ci.\n",
    "#bins = np.linspace(0, 18, 10)\n",
    "for lower,upper,y in zip(dataset['lower'],dataset['upper'],range(len(dataset))):\n",
    "    plt.plot((lower,upper),(y,y),'ro-',color='orange')\n",
    "    plt.yticks(range(len(dataset)),list(dataset['Number']))\n",
    "    plt.axvline(x=0)\n",
    "plt.title('Confidence Interval with a Population Mean Difference')\n",
    "plt.savefig(\"CIMeanSmall.png\")"
   ]
  },
  {
   "cell_type": "code",
   "execution_count": 41,
   "metadata": {},
   "outputs": [],
   "source": [
    "# Type II and Power\n",
    "typetwo=sum((x[0]<=0 and x[1]>=0) for x in ci)/20\n",
    "power=1-typetwo"
   ]
  },
  {
   "cell_type": "code",
   "execution_count": 42,
   "metadata": {},
   "outputs": [],
   "source": [
    "# # wrong directions\n",
    "# typesign=sum((x[1]<=0) for x in ci)/20\n",
    "# power_s=1-typesign"
   ]
  },
  {
   "cell_type": "code",
   "execution_count": 43,
   "metadata": {},
   "outputs": [
    {
     "name": "stdout",
     "output_type": "stream",
     "text": [
      "1.0 0.0\n"
     ]
    }
   ],
   "source": [
    "print(typetwo,power)"
   ]
  },
  {
   "cell_type": "markdown",
   "metadata": {},
   "source": [
    "## Find Sample Size "
   ]
  },
  {
   "cell_type": "code",
   "execution_count": 61,
   "metadata": {},
   "outputs": [
    {
     "name": "stdout",
     "output_type": "stream",
     "text": [
      "0.5\n"
     ]
    }
   ],
   "source": [
    "# population characteristics \n",
    "lift = 1.1\n",
    "std=4\n",
    "control_m=5\n",
    "test_m=control_m*lift\n",
    "mean_d = test_m-control_m\n",
    "print(mean_d)"
   ]
  },
  {
   "cell_type": "code",
   "execution_count": 62,
   "metadata": {},
   "outputs": [],
   "source": [
    "power=[]\n",
    "n=100\n",
    "m=500\n",
    "# the outer loop tries different sample sizes\n",
    "for s in range(m):\n",
    "    k =100+10*(s+1)\n",
    "    ci=[]\n",
    "    # the inner draw different samples and estimate the power with certain sample size\n",
    "    for i in range(n):\n",
    "        ctrl = np.random.normal(5,std,k) \n",
    "        test = np.random.normal(5*lift,std,k)\n",
    "        cm = sms.CompareMeans(sms.DescrStatsW(test), sms.DescrStatsW(ctrl))\n",
    "        a,b = cm.tconfint_diff(alpha=0.05, alternative='two-sided', usevar='unequal')\n",
    "        ci.append((a,b))\n",
    "    t2=sum((x[0]<=0 and x[1]>=0) for x in ci)/n\n",
    "    pw=1-t2\n",
    "    power.append((k,pw))"
   ]
  },
  {
   "cell_type": "code",
   "execution_count": 63,
   "metadata": {},
   "outputs": [],
   "source": [
    "l_y=[x[1] for x in power]\n",
    "s_x=[x[0] for x in power]"
   ]
  },
  {
   "cell_type": "code",
   "execution_count": 64,
   "metadata": {},
   "outputs": [
    {
     "data": {
      "text/plain": [
       "<matplotlib.lines.Line2D at 0x7ff4c04a7b80>"
      ]
     },
     "execution_count": 64,
     "metadata": {},
     "output_type": "execute_result"
    },
    {
     "data": {
      "image/png": "[encoded data removed]",
      "text/plain": [
       "<Figure size 432x288 with 1 Axes>"
      ]
     },
     "metadata": {
      "needs_background": "light"
     },
     "output_type": "display_data"
    }
   ],
   "source": [
    "plt.plot(s_x,l_y)\n",
    "plt.title('Power Analysis' + ' & Sample Size')\n",
    "plt.xlabel('Smaple Size')\n",
    "plt.ylabel('Power')\n",
    "plt.axhline(y=0.80, color='r', linestyle='--')\n",
    "plt.axhline(y=0.95, color='r', linestyle='--')"
   ]
  },
  {
   "cell_type": "code",
   "execution_count": 65,
   "metadata": {},
   "outputs": [
    {
     "data": {
      "text/plain": [
       "<Figure size 432x288 with 0 Axes>"
      ]
     },
     "metadata": {},
     "output_type": "display_data"
    }
   ],
   "source": [
    "plt.savefig(\"Power_SampleSize.png\")"
   ]
  },
  {
   "cell_type": "code",
   "execution_count": 66,
   "metadata": {},
   "outputs": [
    {
     "name": "stdout",
     "output_type": "stream",
     "text": [
      "[1010] 1010.0\n"
     ]
    }
   ],
   "source": [
    "#power = 0.8\n",
    "index_80=[power.index(x) for x in power if x[1] >= 0.799999999 and x[1] <= 0.800001]\n",
    "size_exp_80=[power[i][0] for i in index_80]\n",
    "size_80=np.average(size_exp_80)\n",
    "print(size_exp_80,size_80)"
   ]
  },
  {
   "cell_type": "code",
   "execution_count": 67,
   "metadata": {},
   "outputs": [
    {
     "name": "stdout",
     "output_type": "stream",
     "text": [
      "[1430, 1570, 1650, 1690, 1700, 1710, 1740, 1920, 2290] 1744.4444444444443\n"
     ]
    }
   ],
   "source": [
    "#power = 0.95\n",
    "index_95=[power.index(x) for x in power if x[1] >= 0.949999999 and x[1] <= 0.9500001]\n",
    "size_exp_95=[power[i][0] for i in index_95]\n",
    "size_95=np.average(size_exp_95)\n",
    "print(size_exp_95,size_95)"
   ]
  },
  {
   "cell_type": "markdown",
   "metadata": {},
   "source": [
    "**For power=0.8, sample size for each variant is approximately as:** 16*sample_variance/(mean_difference^2)"
   ]
  },
  {
   "cell_type": "code",
   "execution_count": 52,
   "metadata": {},
   "outputs": [],
   "source": [
    "N_estimate=(16*(std**2))/(((lift-1)*5)**2)"
   ]
  },
  {
   "cell_type": "code",
   "execution_count": 53,
   "metadata": {},
   "outputs": [
    {
     "name": "stdout",
     "output_type": "stream",
     "text": [
      "1599.9999999999973\n"
     ]
    }
   ],
   "source": [
    "print(N_estimate)"
   ]
  },
  {
   "cell_type": "markdown",
   "metadata": {},
   "source": [
    "**For Class Exercise:** You made a change to the checkout process, and you cared about at least 5% change to the purchase rate. You only analyze triggered users who started the checkout process. Assume that 10% of users initiate checkout, and equal size for Treatment and Control. What sample size will you choose for your experiment for 80% statistical power?"
   ]
  },
  {
   "cell_type": "code",
   "execution_count": 64,
   "metadata": {},
   "outputs": [],
   "source": [
    "#Follow Bernoulli distribution:np.random.binomial(1,p,k) \n",
    "lift = 1.05\n",
    "#m0\n",
    "p_ctrl = 0.5\n",
    "#m1\n",
    "p_test = p_ctrl * lift\n",
    "delta=(lift-1)*p_ctrl"
   ]
  },
  {
   "cell_type": "code",
   "execution_count": 65,
   "metadata": {},
   "outputs": [],
   "source": [
    "power=[]\n",
    "n=200\n",
    "m=100\n",
    "for s in range(m):\n",
    "    k =100+100*(s+1)\n",
    "    ci=[]\n",
    "    for i in range(n):\n",
    "        ctrl = np.random.binomial(1, p_ctrl, k) \n",
    "        test = np.random.binomial(1, p_test, k)\n",
    "        cm = sms.CompareMeans(sms.DescrStatsW(test), sms.DescrStatsW(ctrl))\n",
    "        a,b = cm.tconfint_diff(alpha=0.05, alternative='two-sided', usevar='pooled')\n",
    "        ci.append((a,b))\n",
    "    t2=sum((x[0]<=0 and x[1]>=0) for x in ci)/n\n",
    "    pw=1-t2\n",
    "    power.append((k,pw))"
   ]
  },
  {
   "cell_type": "code",
   "execution_count": 66,
   "metadata": {},
   "outputs": [
    {
     "name": "stdout",
     "output_type": "stream",
     "text": [
      "[5900]\n"
     ]
    },
    {
     "data": {
      "image/png": "[encoded data removed]",
      "text/plain": [
       "<Figure size 432x288 with 1 Axes>"
      ]
     },
     "metadata": {
      "needs_background": "light"
     },
     "output_type": "display_data"
    }
   ],
   "source": [
    "# Visualize the relationship between sample size for the treatment (k) and power\n",
    "l_y=[x[1] for x in power]\n",
    "s_x=[x[0] for x in power]\n",
    "plt.plot(s_x,l_y)\n",
    "plt.title('Power Analysis' + ' & Sample Size')\n",
    "plt.xlabel('Smaple Size')\n",
    "plt.ylabel('Power')\n",
    "plt.axhline(y=0.8, color='r', linestyle='--')\n",
    "plt.axhline(y=0.9, color='r', linestyle='--')\n",
    "# Find the sample size of power = 0.8\n",
    "index_=[power.index(x) for x in power if x[1]== 0.8]\n",
    "size_exp=[power[i][0] for i in index_]\n",
    "print(size_exp)"
   ]
  },
  {
   "cell_type": "code",
   "execution_count": 67,
   "metadata": {},
   "outputs": [
    {
     "name": "stdout",
     "output_type": "stream",
     "text": [
      "[5900]\n"
     ]
    }
   ],
   "source": [
    "# Find the sample size of power = 0.8\n",
    "index_=[power.index(x) for x in power if x[1] > 0.79 and x[1] < 0.81]\n",
    "size_exp=[power[i][0] for i in index_]\n",
    "print(size_exp)"
   ]
  },
  {
   "cell_type": "markdown",
   "metadata": {},
   "source": [
    "**Use fomular to precisely calculate the power and sample size**"
   ]
  },
  {
   "cell_type": "code",
   "execution_count": 70,
   "metadata": {},
   "outputs": [],
   "source": [
    "from statsmodels.stats.power import zt_ind_solve_power"
   ]
  },
  {
   "cell_type": "code",
   "execution_count": 91,
   "metadata": {},
   "outputs": [],
   "source": [
    "size_80=zt_ind_solve_power(effect_size=(mean*(lift-1)/std), alpha=0.05, power=0.8, ratio=1,alternative=\"two-sided\")\n",
    "size_95=zt_ind_solve_power(effect_size=(mean*(lift-1)/std), alpha=0.05, power=0.95, ratio=1,alternative=\"two-sided\")"
   ]
  },
  {
   "cell_type": "code",
   "execution_count": 92,
   "metadata": {},
   "outputs": [
    {
     "name": "stdout",
     "output_type": "stream",
     "text": [
      "1569.772101902326 2598.9418189023354\n"
     ]
    }
   ],
   "source": [
    "print(size_80,size_95)"
   ]
  },
  {
   "cell_type": "code",
   "execution_count": null,
   "metadata": {},
   "outputs": [],
   "source": []
  },
  {
   "cell_type": "code",
   "execution_count": null,
   "metadata": {},
   "outputs": [],
   "source": []
  }
 ],
 "metadata": {
  "kernelspec": {
   "display_name": "Python 3",
   "language": "python",
   "name": "python3"
  },
  "language_info": {
   "codemirror_mode": {
    "name": "ipython",
    "version": 3
   },
   "file_extension": ".py",
   "mimetype": "text/x-python",
   "name": "python",
   "nbconvert_exporter": "python",
   "pygments_lexer": "ipython3",
   "version": "3.8.5"
  }
 },
 "nbformat": 4,
 "nbformat_minor": 4
}
