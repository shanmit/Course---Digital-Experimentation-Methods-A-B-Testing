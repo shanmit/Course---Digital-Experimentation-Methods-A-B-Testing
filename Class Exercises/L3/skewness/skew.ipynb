{
 "cells": [
  {
   "cell_type": "markdown",
   "metadata": {},
   "source": [
    "## Skew and Sample Size\n",
    "\n",
    "Data Description:\n",
    "\n",
    "Age: user age\n",
    "\n",
    "Gender: user gender\n",
    "\n",
    "friend_cnt: the number of friends of a user\n",
    "\n",
    "sns_like_cnt: the number of likes that a user sent in the Moments during the last month\n",
    "\n",
    "sns_comment_cnt: the number of comments that a user sent in the Moments during the last month\n",
    "\n",
    "** all the data are simulated based on real data's distributions."
   ]
  },
  {
   "cell_type": "code",
   "execution_count": 15,
   "metadata": {},
   "outputs": [
    {
     "name": "stdout",
     "output_type": "stream",
     "text": [
      "Requirement already satisfied: termcolor in /Users/shan_huang/opt/anaconda3/lib/python3.8/site-packages (1.1.0)\n",
      "Note: you may need to restart the kernel to use updated packages.\n"
     ]
    }
   ],
   "source": [
    "pip install termcolor"
   ]
  },
  {
   "cell_type": "code",
   "execution_count": 16,
   "metadata": {},
   "outputs": [],
   "source": [
    "import pandas as pd\n",
    "import numpy as np\n",
    "import matplotlib.pyplot as plt\n",
    "from termcolor import colored, cprint"
   ]
  },
  {
   "cell_type": "code",
   "execution_count": 17,
   "metadata": {},
   "outputs": [
    {
     "name": "stdout",
     "output_type": "stream",
     "text": [
      "   user  expid  click  like  age  gender  friend_cnt  sns_like_cnt  \\\n",
      "0     1      1      1     0   34       2         230           209   \n",
      "1     2      2      0     0   25       2         136            44   \n",
      "2     3      2      0     0   30       1        1556           160   \n",
      "3     4      0      0     0   26       2         168            46   \n",
      "4     5      0      0     0   24       2         105             7   \n",
      "\n",
      "   sns_comment_cnt  \n",
      "0              320  \n",
      "1               71  \n",
      "2               97  \n",
      "3              113  \n",
      "4               30  \n"
     ]
    }
   ],
   "source": [
    "data = 'exp_data_2.csv'\n",
    "df = pd.read_csv(data)\n",
    "print(df.head(5))"
   ]
  },
  {
   "cell_type": "code",
   "execution_count": 19,
   "metadata": {},
   "outputs": [],
   "source": [
    "def skew(x):\n",
    "    cprint(x,'red', 'on_yellow')\n",
    "    s= df[x].skew()\n",
    "    print('skew', s )   \n",
    "    df[x].plot.hist(bins=500,edgecolor='black')\n",
    "    size = 355*s*s\n",
    "    print('Sample Size',size)"
   ]
  },
  {
   "cell_type": "code",
   "execution_count": 20,
   "metadata": {},
   "outputs": [
    {
     "name": "stdout",
     "output_type": "stream",
     "text": [
      "\u001b[43m\u001b[31mage\u001b[0m\n",
      "skew 0.5547648589753333\n",
      "Sample Size 109.25623730764212\n"
     ]
    },
    {
     "data": {
      "text/plain": [
       "<AxesSubplot:ylabel='Frequency'>"
      ]
     },
     "execution_count": 20,
     "metadata": {},
     "output_type": "execute_result"
    },
    {
     "data": {
      "image/png": "[encoded data removed]",
      "text/plain": [
       "<Figure size 432x288 with 1 Axes>"
      ]
     },
     "metadata": {
      "needs_background": "light"
     },
     "output_type": "display_data"
    }
   ],
   "source": [
    "skew('age')\n",
    "df['age'].plot.hist(bins=500,edgecolor='black')"
   ]
  },
  {
   "cell_type": "code",
   "execution_count": 7,
   "metadata": {},
   "outputs": [
    {
     "name": "stdout",
     "output_type": "stream",
     "text": [
      "\u001b[43m\u001b[31mgender\u001b[0m\n",
      "skew -0.22291770923604226\n",
      "Sample Size 17.64076830732086\n"
     ]
    },
    {
     "data": {
      "text/plain": [
       "<AxesSubplot:ylabel='Frequency'>"
      ]
     },
     "execution_count": 7,
     "metadata": {},
     "output_type": "execute_result"
    },
    {
     "data": {
      "image/png": "[encoded data removed]",
      "text/plain": [
       "<Figure size 432x288 with 1 Axes>"
      ]
     },
     "metadata": {
      "needs_background": "light"
     },
     "output_type": "display_data"
    }
   ],
   "source": [
    "skew('gender')\n",
    "df['gender'].plot.hist(bins=2,edgecolor='black')"
   ]
  },
  {
   "cell_type": "code",
   "execution_count": 8,
   "metadata": {},
   "outputs": [
    {
     "name": "stdout",
     "output_type": "stream",
     "text": [
      "\u001b[43m\u001b[31mfriend_cnt\u001b[0m\n",
      "skew 4.556188797350989\n",
      "Sample Size 7369.394006772863\n"
     ]
    },
    {
     "data": {
      "text/plain": [
       "<AxesSubplot:ylabel='Frequency'>"
      ]
     },
     "execution_count": 8,
     "metadata": {},
     "output_type": "execute_result"
    },
    {
     "data": {
      "image/png": "[encoded data removed]",
      "text/plain": [
       "<Figure size 432x288 with 1 Axes>"
      ]
     },
     "metadata": {
      "needs_background": "light"
     },
     "output_type": "display_data"
    }
   ],
   "source": [
    "skew('friend_cnt')\n",
    "df['friend_cnt'].plot.hist(bins=5000,edgecolor='black')"
   ]
  },
  {
   "cell_type": "code",
   "execution_count": 23,
   "metadata": {},
   "outputs": [
    {
     "name": "stdout",
     "output_type": "stream",
     "text": [
      "\u001b[43m\u001b[31mfriend_cnt_log\u001b[0m\n",
      "skew 0.5697422120037633\n",
      "Sample Size 115.23519678932412\n"
     ]
    },
    {
     "data": {
      "image/png": "[encoded data removed]",
      "text/plain": [
       "<Figure size 432x288 with 1 Axes>"
      ]
     },
     "metadata": {
      "needs_background": "light"
     },
     "output_type": "display_data"
    }
   ],
   "source": [
    "# log transformation\n",
    "df['friend_cnt_log']=np.log(df['friend_cnt'])\n",
    "df['friend_cnt_log'].plot.hist(bins=5000,edgecolor='black')\n",
    "skew('friend_cnt_log')"
   ]
  },
  {
   "cell_type": "code",
   "execution_count": 24,
   "metadata": {},
   "outputs": [
    {
     "name": "stdout",
     "output_type": "stream",
     "text": [
      "\u001b[43m\u001b[31msns_like_cnt\u001b[0m\n",
      "skew 10.839012594649152\n",
      "Sample Size 41706.88887957184\n"
     ]
    },
    {
     "data": {
      "text/plain": [
       "<AxesSubplot:ylabel='Frequency'>"
      ]
     },
     "execution_count": 24,
     "metadata": {},
     "output_type": "execute_result"
    },
    {
     "data": {
      "image/png": "[encoded data removed]",
      "text/plain": [
       "<Figure size 432x288 with 1 Axes>"
      ]
     },
     "metadata": {
      "needs_background": "light"
     },
     "output_type": "display_data"
    }
   ],
   "source": [
    "skew('sns_like_cnt')\n",
    "df['sns_like_cnt'].plot.hist(bins=500,edgecolor='black')"
   ]
  },
  {
   "cell_type": "code",
   "execution_count": 28,
   "metadata": {},
   "outputs": [
    {
     "name": "stdout",
     "output_type": "stream",
     "text": [
      "\u001b[43m\u001b[31msns_like_cnt_log\u001b[0m\n",
      "skew 0.17380022807352383\n",
      "Sample Size 10.72331434383516\n"
     ]
    },
    {
     "data": {
      "image/png": "[encoded data removed]",
      "text/plain": [
       "<Figure size 432x288 with 1 Axes>"
      ]
     },
     "metadata": {
      "needs_background": "light"
     },
     "output_type": "display_data"
    }
   ],
   "source": [
    "# log transformation\n",
    "df['sns_like_cnt_log']=np.log(df['sns_like_cnt'])\n",
    "df['sns_like_cnt_log'].plot.hist(bins=5000,edgecolor='black')\n",
    "skew('sns_like_cnt_log')"
   ]
  },
  {
   "cell_type": "code",
   "execution_count": 11,
   "metadata": {},
   "outputs": [
    {
     "name": "stdout",
     "output_type": "stream",
     "text": [
      "\u001b[43m\u001b[31msns_comment_cnt\u001b[0m\n",
      "skew 4.506684464630221\n",
      "Sample Size 7210.122726627482\n"
     ]
    },
    {
     "data": {
      "text/plain": [
       "<AxesSubplot:ylabel='Frequency'>"
      ]
     },
     "execution_count": 11,
     "metadata": {},
     "output_type": "execute_result"
    },
    {
     "data": {
      "image/png": "[encoded data removed]",
      "text/plain": [
       "<Figure size 432x288 with 1 Axes>"
      ]
     },
     "metadata": {
      "needs_background": "light"
     },
     "output_type": "display_data"
    }
   ],
   "source": [
    "skew('sns_comment_cnt')\n",
    "df['sns_comment_cnt'].plot.hist(bins=500,edgecolor='black')"
   ]
  },
  {
   "cell_type": "code",
   "execution_count": 27,
   "metadata": {},
   "outputs": [
    {
     "name": "stdout",
     "output_type": "stream",
     "text": [
      "\u001b[43m\u001b[31msns_comment_cnt_log\u001b[0m\n",
      "skew -0.07103281194025257\n",
      "Sample Size 1.7912094321094474\n"
     ]
    },
    {
     "data": {
      "image/png": "[encoded data removed]",
      "text/plain": [
       "<Figure size 432x288 with 1 Axes>"
      ]
     },
     "metadata": {
      "needs_background": "light"
     },
     "output_type": "display_data"
    }
   ],
   "source": [
    "# log transformation\n",
    "df['sns_comment_cnt_log']=np.log(df['sns_comment_cnt'])\n",
    "df['sns_comment_cnt_log'].plot.hist(bins=5000,edgecolor='black')\n",
    "skew('sns_comment_cnt_log')"
   ]
  },
  {
   "cell_type": "code",
   "execution_count": null,
   "metadata": {},
   "outputs": [],
   "source": []
  }
 ],
 "metadata": {
  "kernelspec": {
   "display_name": "Python 3",
   "language": "python",
   "name": "python3"
  },
  "language_info": {
   "codemirror_mode": {
    "name": "ipython",
    "version": 3
   },
   "file_extension": ".py",
   "mimetype": "text/x-python",
   "name": "python",
   "nbconvert_exporter": "python",
   "pygments_lexer": "ipython3",
   "version": "3.8.5"
  }
 },
 "nbformat": 4,
 "nbformat_minor": 4
}
