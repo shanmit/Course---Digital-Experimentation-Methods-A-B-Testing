{
 "cells": [
  {
   "cell_type": "markdown",
   "metadata": {},
   "source": [
    "## Confidence Interval"
   ]
  },
  {
   "cell_type": "markdown",
   "metadata": {},
   "source": [
    "#### A/B Test Example \n",
    "\n",
    "Considering WeChat wants to use algorithms to rank the feeds on WeChat Moments instead of showing the organic feeds chronologically.\n",
    "\n",
    "**We are testing the two approaches to rank the feeds:** \n",
    "\n",
    "Control Group: show feeds chronologically\n",
    "\n",
    "Treatment Group: Rank feeds with algorithms\n",
    "\n",
    "Metric (#days): the number of days that a user clicks any feeds on WeChat Moments during the recent 30 days. \n",
    "\n",
    "**Objective**: Find the confidence interval of $\\delta$ = $\\mu_1$ - $\\mu_0$ and decide whether it is significantly larger than 0.\n",
    "\n",
    "**CI**: CI represents how often (e.g., 95%) the CI should contain the true Treatment Effects (difference between treatment and control)."
   ]
  },
  {
   "cell_type": "code",
   "execution_count": 10,
   "metadata": {},
   "outputs": [],
   "source": [
    "import numpy as np, statsmodels.stats.api as sms\n",
    "import itertools\n",
    "import matplotlib.pyplot as plt\n",
    "from matplotlib.ticker import NullFormatter\n",
    "import pandas as pd\n",
    "import numpy as np\n",
    "import matplotlib.ticker as ticker\n",
    "import random\n",
    "from sklearn import preprocessing"
   ]
  },
  {
   "cell_type": "code",
   "execution_count": 11,
   "metadata": {},
   "outputs": [
    {
     "name": "stdout",
     "output_type": "stream",
     "text": [
      "1.5\n"
     ]
    }
   ],
   "source": [
    "#population characteristics\n",
    "lift = 1.1\n",
    "ctr0=0.5\n",
    "ctr1=lift*ctr0\n",
    "# mean = n*p (n=30)\n",
    "mu0=30*ctr0\n",
    "mu1=30*ctr1\n",
    "delta_p = mu1-mu0\n",
    "print(delta_p)"
   ]
  },
  {
   "cell_type": "code",
   "execution_count": 12,
   "metadata": {},
   "outputs": [
    {
     "name": "stdout",
     "output_type": "stream",
     "text": [
      "1.3790000000000013\n"
     ]
    }
   ],
   "source": [
    "#sample characteristics\n",
    "# we draw the sample\n",
    "ctrl = np.random.binomial(30, p=ctr0, size=1000) * 1.0\n",
    "test = np.random.binomial(30, p=ctr1, size=1000) * 1.0\n",
    "delta_s = np.mean(test)-np.mean(ctrl)\n",
    "print(delta_s)"
   ]
  },
  {
   "cell_type": "code",
   "execution_count": 13,
   "metadata": {},
   "outputs": [
    {
     "name": "stdout",
     "output_type": "stream",
     "text": [
      "2.720374790355182 2.675518641310503\n"
     ]
    }
   ],
   "source": [
    "se0 = np.std(ctrl)\n",
    "se1 = np.std(test)\n",
    "print(se0,se1)"
   ]
  },
  {
   "cell_type": "code",
   "execution_count": 14,
   "metadata": {},
   "outputs": [],
   "source": [
    "cm = sms.CompareMeans(sms.DescrStatsW(test), sms.DescrStatsW(ctrl))"
   ]
  },
  {
   "cell_type": "code",
   "execution_count": 15,
   "metadata": {},
   "outputs": [
    {
     "name": "stdout",
     "output_type": "stream",
     "text": [
      "(1.1422489254698085, 1.6157510745301942)\n",
      "(1.1423923846126793, 1.6156076153873233)\n"
     ]
    }
   ],
   "source": [
    "print(cm.tconfint_diff(alpha=0.05, alternative='two-sided', usevar='unequal'))\n",
    "print(cm.zconfint_diff(alpha=0.05, alternative='two-sided', usevar='unequal'))"
   ]
  },
  {
   "cell_type": "markdown",
   "metadata": {},
   "source": [
    "### Compare CIs, k=100, 1000, 2000, 5000"
   ]
  },
  {
   "cell_type": "code",
   "execution_count": 7,
   "metadata": {},
   "outputs": [],
   "source": [
    "def ci_sample_size(n):\n",
    "    ctrl = np.random.binomial(30, p=ctr0, size=n) * 1.0\n",
    "    test = np.random.binomial(30, p=ctr0*lift, size=n) * 1.0\n",
    "    cm = sms.CompareMeans(sms.DescrStatsW(test), sms.DescrStatsW(ctrl))\n",
    "    x,y = cm.tconfint_diff(alpha=0.05, alternative='two-sided', usevar='unequal')\n",
    "    return (x,y)"
   ]
  },
  {
   "cell_type": "code",
   "execution_count": 8,
   "metadata": {},
   "outputs": [],
   "source": [
    "size = [50,1000,2000,100000]\n",
    "ci_lower=[]\n",
    "ci_upper=[]"
   ]
  },
  {
   "cell_type": "code",
   "execution_count": 9,
   "metadata": {},
   "outputs": [
    {
     "name": "stdout",
     "output_type": "stream",
     "text": [
      "(0.0447351492565613, 2.155264850743438)\n",
      "(1.0227458222717214, 1.5092541777282786)\n",
      "(1.0939559051256076, 1.4320440948743887)\n",
      "(1.4748116305281684, 1.5226283694718326)\n"
     ]
    }
   ],
   "source": [
    "for i in size:\n",
    "    print(ci_sample_size(i))\n",
    "    ci_lower.append(ci_sample_size(i)[0])\n",
    "    ci_upper.append(ci_sample_size(i)[1])"
   ]
  },
  {
   "cell_type": "code",
   "execution_count": 10,
   "metadata": {},
   "outputs": [],
   "source": [
    "data_dict = {}\n",
    "data_dict['lower'] = [x for x in ci_lower]\n",
    "data_dict['upper'] = [x for x in ci_upper]\n",
    "data_dict['size']=[x for x in size]\n",
    "dataset = pd.DataFrame(data_dict)"
   ]
  },
  {
   "cell_type": "code",
   "execution_count": 11,
   "metadata": {},
   "outputs": [
    {
     "data": {
      "text/plain": [
       "Text(0, 0.5, 'Sample Size')"
      ]
     },
     "execution_count": 11,
     "metadata": {},
     "output_type": "execute_result"
    },
    {
     "data": {
      "image/png": "[encoded data removed]",
      "text/plain": [
       "<Figure size 432x288 with 1 Axes>"
      ]
     },
     "metadata": {
      "needs_background": "light"
     },
     "output_type": "display_data"
    }
   ],
   "source": [
    "for lower,upper,y in zip(dataset['lower'],dataset['upper'],range(len(dataset))):\n",
    "    plt.plot((lower,upper),(y,y),'ro-',color='orange')\n",
    "plt.axvline(x=delta_p)\n",
    "plt.yticks(range(len(dataset)),list(dataset['size']))\n",
    "plt.title('SampleSize & CIs')\n",
    "plt.xlabel('Confidence Intervals')\n",
    "plt.ylabel('Sample Size')"
   ]
  },
  {
   "cell_type": "markdown",
   "metadata": {},
   "source": [
    "### CI and Type I Error"
   ]
  },
  {
   "cell_type": "markdown",
   "metadata": {},
   "source": [
    "CIs for testing the same variable ($\\delta$) based on different samples. Draw 25 samples from the population. Show the CIs and interpret Type I error by the results."
   ]
  },
  {
   "cell_type": "code",
   "execution_count": 12,
   "metadata": {},
   "outputs": [
    {
     "name": "stdout",
     "output_type": "stream",
     "text": [
      "0.5000000000000004\n"
     ]
    }
   ],
   "source": [
    "#population \n",
    "lift2 = 1.1\n",
    "std = 0.2\n",
    "mean = 5\n",
    "delta_p2=5*(lift2-1)\n",
    "print(delta_p2)"
   ]
  },
  {
   "cell_type": "code",
   "execution_count": 20,
   "metadata": {},
   "outputs": [],
   "source": [
    "ci=[]\n",
    "for i in range(20):\n",
    "    ctrl = np.random.normal(5,std,1000)\n",
    "    test = np.random.normal(5*lift2,std, 1000)\n",
    "    cm = sms.CompareMeans(sms.DescrStatsW(test), sms.DescrStatsW(ctrl))\n",
    "    x,y = cm.tconfint_diff(alpha=0.05, alternative='two-sided', usevar='unequal')\n",
    "    ci.append((x,y))"
   ]
  },
  {
   "cell_type": "code",
   "execution_count": 21,
   "metadata": {},
   "outputs": [
    {
     "name": "stdout",
     "output_type": "stream",
     "text": [
      "    Number     lower     upper\n",
      "0        0  0.480556  0.515585\n",
      "1        1  0.492531  0.527923\n",
      "2        2  0.487024  0.521639\n",
      "3        3  0.490352  0.525666\n",
      "4        4  0.496746  0.532386\n",
      "5        5  0.457623  0.492577\n",
      "6        6  0.482577  0.517819\n",
      "7        7  0.501737  0.536818\n",
      "8        8  0.480479  0.515723\n",
      "9        9  0.482137  0.517534\n",
      "10      10  0.483448  0.518725\n",
      "11      11  0.493172  0.527980\n",
      "12      12  0.471214  0.507093\n",
      "13      13  0.475970  0.512398\n",
      "14      14  0.465279  0.501072\n",
      "15      15  0.480083  0.515361\n",
      "16      16  0.487442  0.522472\n",
      "17      17  0.478996  0.514368\n",
      "18      18  0.491380  0.526660\n",
      "19      19  0.469840  0.504135\n"
     ]
    }
   ],
   "source": [
    "data_dict = {}\n",
    "data_dict['Number'] = [x for x in range(20)]\n",
    "data_dict['lower'] = [x[0] for x in ci]\n",
    "data_dict['upper'] = [x[1] for x in ci]\n",
    "dataset = pd.DataFrame(data_dict)  \n",
    "print(dataset)"
   ]
  },
  {
   "cell_type": "code",
   "execution_count": 22,
   "metadata": {},
   "outputs": [
    {
     "data": {
      "image/png": "[encoded data removed]",
      "text/plain": [
       "<Figure size 432x288 with 1 Axes>"
      ]
     },
     "metadata": {
      "needs_background": "light"
     },
     "output_type": "display_data"
    }
   ],
   "source": [
    "for lower,upper,y in zip(dataset['lower'],dataset['upper'],range(len(dataset))):\n",
    "    plt.plot((lower,upper),(y,y),'ro-',color='orange')\n",
    "    plt.yticks(range(len(dataset)),list(dataset['Number']))\n",
    "    plt.axvline(delta_p2)\n",
    "plt.title('Confidence Intervals')\n",
    "plt.savefig(\"CIMean0.png\")"
   ]
  },
  {
   "cell_type": "markdown",
   "metadata": {},
   "source": [
    "### Bootstrap CIs"
   ]
  },
  {
   "cell_type": "markdown",
   "metadata": {},
   "source": [
    "https://github.com/facebookarchive/bootstrapped"
   ]
  },
  {
   "cell_type": "code",
   "execution_count": 16,
   "metadata": {},
   "outputs": [
    {
     "name": "stdout",
     "output_type": "stream",
     "text": [
      "Requirement already satisfied: bootstrapped in /Users/shan_huang/opt/anaconda3/lib/python3.8/site-packages (0.0.2)\n",
      "Requirement already satisfied: matplotlib>=1.5.3 in /Users/shan_huang/opt/anaconda3/lib/python3.8/site-packages (from bootstrapped) (3.3.2)\n",
      "Requirement already satisfied: pandas>=0.18.1 in /Users/shan_huang/opt/anaconda3/lib/python3.8/site-packages (from bootstrapped) (1.1.3)\n",
      "Requirement already satisfied: numpy>=1.11.1 in /Users/shan_huang/opt/anaconda3/lib/python3.8/site-packages (from bootstrapped) (1.19.2)\n",
      "Requirement already satisfied: pyparsing!=2.0.4,!=2.1.2,!=2.1.6,>=2.0.3 in /Users/shan_huang/opt/anaconda3/lib/python3.8/site-packages (from matplotlib>=1.5.3->bootstrapped) (2.4.7)\n",
      "Requirement already satisfied: pillow>=6.2.0 in /Users/shan_huang/opt/anaconda3/lib/python3.8/site-packages (from matplotlib>=1.5.3->bootstrapped) (8.0.1)\n",
      "Requirement already satisfied: cycler>=0.10 in /Users/shan_huang/opt/anaconda3/lib/python3.8/site-packages (from matplotlib>=1.5.3->bootstrapped) (0.10.0)\n",
      "Requirement already satisfied: kiwisolver>=1.0.1 in /Users/shan_huang/opt/anaconda3/lib/python3.8/site-packages (from matplotlib>=1.5.3->bootstrapped) (1.3.0)\n",
      "Requirement already satisfied: certifi>=2020.06.20 in /Users/shan_huang/opt/anaconda3/lib/python3.8/site-packages (from matplotlib>=1.5.3->bootstrapped) (2020.6.20)\n",
      "Requirement already satisfied: python-dateutil>=2.1 in /Users/shan_huang/opt/anaconda3/lib/python3.8/site-packages (from matplotlib>=1.5.3->bootstrapped) (2.8.1)\n",
      "Requirement already satisfied: pytz>=2017.2 in /Users/shan_huang/opt/anaconda3/lib/python3.8/site-packages (from pandas>=0.18.1->bootstrapped) (2020.1)\n",
      "Requirement already satisfied: six in /Users/shan_huang/opt/anaconda3/lib/python3.8/site-packages (from cycler>=0.10->matplotlib>=1.5.3->bootstrapped) (1.15.0)\n",
      "Note: you may need to restart the kernel to use updated packages.\n"
     ]
    }
   ],
   "source": [
    "pip install bootstrapped"
   ]
  },
  {
   "cell_type": "code",
   "execution_count": 2,
   "metadata": {},
   "outputs": [],
   "source": [
    "import bootstrapped.bootstrap as bs\n",
    "import bootstrapped.compare_functions as bs_compare\n",
    "import bootstrapped.stats_functions as bs_stats"
   ]
  },
  {
   "cell_type": "code",
   "execution_count": 17,
   "metadata": {},
   "outputs": [],
   "source": [
    "ctrl = np.array(ctrl)\n",
    "test = np.array(test)"
   ]
  },
  {
   "cell_type": "markdown",
   "metadata": {},
   "source": [
    "**Compare Mean Difference: value change & percent change**"
   ]
  },
  {
   "cell_type": "code",
   "execution_count": 18,
   "metadata": {},
   "outputs": [
    {
     "name": "stdout",
     "output_type": "stream",
     "text": [
      "1.3790000000000013    (1.1380000000000035, 1.6240000000000006)\n"
     ]
    }
   ],
   "source": [
    "print(bs.bootstrap_ab(\n",
    "    test, \n",
    "    ctrl, \n",
    "    stat_func=bs_stats.mean,\n",
    "    compare_func=bs_compare.difference,\n",
    "    alpha=0.05))"
   ]
  },
  {
   "cell_type": "code",
   "execution_count": 19,
   "metadata": {},
   "outputs": [
    {
     "name": "stdout",
     "output_type": "stream",
     "text": [
      "9.14395597108946    (7.492608721343869, 10.771821298348328)\n"
     ]
    }
   ],
   "source": [
    "print(bs.bootstrap_ab(\n",
    "    test, \n",
    "    ctrl, \n",
    "    stat_func=bs_stats.mean,\n",
    "    compare_func=bs_compare.percent_change,\n",
    "    alpha=0.05))"
   ]
  },
  {
   "cell_type": "markdown",
   "metadata": {},
   "source": [
    "**Compare Median Difference: value change & percent change**"
   ]
  },
  {
   "cell_type": "code",
   "execution_count": 20,
   "metadata": {},
   "outputs": [
    {
     "name": "stdout",
     "output_type": "stream",
     "text": [
      "2.0    (2.0, 3.0)\n"
     ]
    }
   ],
   "source": [
    "print(bs.bootstrap_ab(\n",
    "    test, \n",
    "    ctrl, \n",
    "    stat_func=bs_stats.median,\n",
    "    compare_func=bs_compare.difference,\n",
    "    alpha=0.05))"
   ]
  },
  {
   "cell_type": "code",
   "execution_count": 21,
   "metadata": {},
   "outputs": [
    {
     "name": "stdout",
     "output_type": "stream",
     "text": [
      "13.333333333333334    (13.333333333333334, 20.0)\n"
     ]
    }
   ],
   "source": [
    "print(bs.bootstrap_ab(\n",
    "    test, \n",
    "    ctrl, \n",
    "    stat_func=bs_stats.median,\n",
    "    compare_func=bs_compare.percent_change,\n",
    "    alpha=0.05))"
   ]
  },
  {
   "cell_type": "markdown",
   "metadata": {},
   "source": [
    "**Compare Standard Errors Difference: value change & percent change**"
   ]
  },
  {
   "cell_type": "code",
   "execution_count": 22,
   "metadata": {},
   "outputs": [
    {
     "name": "stdout",
     "output_type": "stream",
     "text": [
      "-0.044856149044678606    (-0.21680099414147444, 0.12374627150013212)\n"
     ]
    }
   ],
   "source": [
    "print(bs.bootstrap_ab(\n",
    "    test, \n",
    "    ctrl, \n",
    "    stat_func=bs_stats.std,\n",
    "    compare_func=bs_compare.difference,\n",
    "    alpha=0.05))"
   ]
  },
  {
   "cell_type": "code",
   "execution_count": 23,
   "metadata": {},
   "outputs": [
    {
     "name": "stdout",
     "output_type": "stream",
     "text": [
      "-1.6488959243304129    (-8.015358620926206, 4.234015978126974)\n"
     ]
    }
   ],
   "source": [
    "print(bs.bootstrap_ab(\n",
    "    test, \n",
    "    ctrl, \n",
    "    stat_func=bs_stats.std,\n",
    "    compare_func=bs_compare.percent_change,\n",
    "    alpha=0.05))"
   ]
  },
  {
   "cell_type": "markdown",
   "metadata": {},
   "source": [
    "**Compare SUM Difference: value change & percent change**"
   ]
  },
  {
   "cell_type": "code",
   "execution_count": 24,
   "metadata": {},
   "outputs": [
    {
     "name": "stdout",
     "output_type": "stream",
     "text": [
      "1379.0    (1142.9750000000004, 1614.0)\n"
     ]
    }
   ],
   "source": [
    "print(bs.bootstrap_ab(\n",
    "    test, \n",
    "    ctrl, \n",
    "    stat_func=bs_stats.sum,\n",
    "    compare_func=bs_compare.difference,\n",
    "    alpha=0.05))"
   ]
  },
  {
   "cell_type": "code",
   "execution_count": 25,
   "metadata": {},
   "outputs": [
    {
     "name": "stdout",
     "output_type": "stream",
     "text": [
      "9.14395597108945    (7.531300354398173, 10.795311231116987)\n"
     ]
    }
   ],
   "source": [
    "print(bs.bootstrap_ab(\n",
    "    test, \n",
    "    ctrl, \n",
    "    stat_func=bs_stats.sum,\n",
    "    compare_func=bs_compare.percent_change,\n",
    "    alpha=0.05))"
   ]
  },
  {
   "cell_type": "code",
   "execution_count": null,
   "metadata": {},
   "outputs": [],
   "source": []
  }
 ],
 "metadata": {
  "kernelspec": {
   "display_name": "Python 3",
   "language": "python",
   "name": "python3"
  },
  "language_info": {
   "codemirror_mode": {
    "name": "ipython",
    "version": 3
   },
   "file_extension": ".py",
   "mimetype": "text/x-python",
   "name": "python",
   "nbconvert_exporter": "python",
   "pygments_lexer": "ipython3",
   "version": "3.8.5"
  }
 },
 "nbformat": 4,
 "nbformat_minor": 4
}
