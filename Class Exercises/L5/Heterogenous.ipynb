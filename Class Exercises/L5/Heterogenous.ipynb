{
 "cells": [
  {
   "cell_type": "code",
   "execution_count": 1,
   "metadata": {},
   "outputs": [],
   "source": [
    "import numpy as np\n",
    "import pandas as pd\n",
    "import statsmodels.stats.api as sms\n",
    "import matplotlib.pyplot as plt\n",
    "import statsmodels.formula.api as smf"
   ]
  },
  {
   "cell_type": "code",
   "execution_count": 2,
   "metadata": {},
   "outputs": [],
   "source": [
    "infile = 'sample_data_segments.csv'\n",
    "df = pd.read_csv(infile)"
   ]
  },
  {
   "cell_type": "code",
   "execution_count": 3,
   "metadata": {},
   "outputs": [
    {
     "data": {
      "text/html": [
       "<div>\n",
       "<style scoped>\n",
       "    .dataframe tbody tr th:only-of-type {\n",
       "        vertical-align: middle;\n",
       "    }\n",
       "\n",
       "    .dataframe tbody tr th {\n",
       "        vertical-align: top;\n",
       "    }\n",
       "\n",
       "    .dataframe thead th {\n",
       "        text-align: right;\n",
       "    }\n",
       "</style>\n",
       "<table border=\"1\" class=\"dataframe\">\n",
       "  <thead>\n",
       "    <tr style=\"text-align: right;\">\n",
       "      <th></th>\n",
       "      <th>user</th>\n",
       "      <th>expid</th>\n",
       "      <th>click</th>\n",
       "      <th>like</th>\n",
       "      <th>age</th>\n",
       "      <th>gender</th>\n",
       "      <th>friend_cnt</th>\n",
       "      <th>sns_like_cnt</th>\n",
       "      <th>sns_comment_cnt</th>\n",
       "    </tr>\n",
       "  </thead>\n",
       "  <tbody>\n",
       "    <tr>\n",
       "      <th>0</th>\n",
       "      <td>58908</td>\n",
       "      <td>1</td>\n",
       "      <td>0</td>\n",
       "      <td>0</td>\n",
       "      <td>35</td>\n",
       "      <td>2</td>\n",
       "      <td>740</td>\n",
       "      <td>123</td>\n",
       "      <td>176</td>\n",
       "    </tr>\n",
       "    <tr>\n",
       "      <th>1</th>\n",
       "      <td>41905</td>\n",
       "      <td>0</td>\n",
       "      <td>0</td>\n",
       "      <td>0</td>\n",
       "      <td>25</td>\n",
       "      <td>2</td>\n",
       "      <td>180</td>\n",
       "      <td>32</td>\n",
       "      <td>97</td>\n",
       "    </tr>\n",
       "    <tr>\n",
       "      <th>2</th>\n",
       "      <td>73087</td>\n",
       "      <td>0</td>\n",
       "      <td>0</td>\n",
       "      <td>0</td>\n",
       "      <td>28</td>\n",
       "      <td>1</td>\n",
       "      <td>692</td>\n",
       "      <td>214</td>\n",
       "      <td>205</td>\n",
       "    </tr>\n",
       "    <tr>\n",
       "      <th>3</th>\n",
       "      <td>4122</td>\n",
       "      <td>1</td>\n",
       "      <td>0</td>\n",
       "      <td>0</td>\n",
       "      <td>25</td>\n",
       "      <td>2</td>\n",
       "      <td>528</td>\n",
       "      <td>26</td>\n",
       "      <td>569</td>\n",
       "    </tr>\n",
       "    <tr>\n",
       "      <th>4</th>\n",
       "      <td>53139</td>\n",
       "      <td>1</td>\n",
       "      <td>0</td>\n",
       "      <td>0</td>\n",
       "      <td>26</td>\n",
       "      <td>1</td>\n",
       "      <td>694</td>\n",
       "      <td>40</td>\n",
       "      <td>102</td>\n",
       "    </tr>\n",
       "  </tbody>\n",
       "</table>\n",
       "</div>"
      ],
      "text/plain": [
       "    user  expid  click  like  age  gender  friend_cnt  sns_like_cnt  \\\n",
       "0  58908      1      0     0   35       2         740           123   \n",
       "1  41905      0      0     0   25       2         180            32   \n",
       "2  73087      0      0     0   28       1         692           214   \n",
       "3   4122      1      0     0   25       2         528            26   \n",
       "4  53139      1      0     0   26       1         694            40   \n",
       "\n",
       "   sns_comment_cnt  \n",
       "0              176  \n",
       "1               97  \n",
       "2              205  \n",
       "3              569  \n",
       "4              102  "
      ]
     },
     "execution_count": 3,
     "metadata": {},
     "output_type": "execute_result"
    }
   ],
   "source": [
    "df.head(5)"
   ]
  },
  {
   "cell_type": "code",
   "execution_count": 3,
   "metadata": {},
   "outputs": [],
   "source": [
    "def get_gender(gender):\n",
    "    if gender == 1:\n",
    "        gender_x = 'male'\n",
    "    else:\n",
    "        gender_x = 'female'\n",
    "    return gender_x"
   ]
  },
  {
   "cell_type": "markdown",
   "metadata": {},
   "source": [
    "Construct Age Groups:"
   ]
  },
  {
   "cell_type": "code",
   "execution_count": 4,
   "metadata": {},
   "outputs": [],
   "source": [
    "def get_age(age):\n",
    "    if age <= 20:\n",
    "        age_x = '1_20'\n",
    "    elif age <= 30:\n",
    "        age_x = '21_30'\n",
    "    elif age <= 40:\n",
    "        age_x = '31_40'\n",
    "    else:\n",
    "        age_x = '40+'\n",
    "    return age_x"
   ]
  },
  {
   "cell_type": "code",
   "execution_count": 5,
   "metadata": {},
   "outputs": [],
   "source": [
    "age_level = df.age.apply(get_age).rename('age_level')\n",
    "gender_level = df.gender.apply(get_gender).rename('gender_level')\n",
    "df = pd.concat([df, age_level, gender_level], axis = 1)"
   ]
  },
  {
   "cell_type": "code",
   "execution_count": 6,
   "metadata": {},
   "outputs": [
    {
     "data": {
      "text/html": [
       "<div>\n",
       "<style scoped>\n",
       "    .dataframe tbody tr th:only-of-type {\n",
       "        vertical-align: middle;\n",
       "    }\n",
       "\n",
       "    .dataframe tbody tr th {\n",
       "        vertical-align: top;\n",
       "    }\n",
       "\n",
       "    .dataframe thead th {\n",
       "        text-align: right;\n",
       "    }\n",
       "</style>\n",
       "<table border=\"1\" class=\"dataframe\">\n",
       "  <thead>\n",
       "    <tr style=\"text-align: right;\">\n",
       "      <th></th>\n",
       "      <th>user</th>\n",
       "      <th>expid</th>\n",
       "      <th>click</th>\n",
       "      <th>like</th>\n",
       "      <th>age</th>\n",
       "      <th>gender</th>\n",
       "      <th>friend_cnt</th>\n",
       "      <th>sns_like_cnt</th>\n",
       "      <th>sns_comment_cnt</th>\n",
       "      <th>age_level</th>\n",
       "      <th>gender_level</th>\n",
       "    </tr>\n",
       "  </thead>\n",
       "  <tbody>\n",
       "    <tr>\n",
       "      <th>0</th>\n",
       "      <td>58908</td>\n",
       "      <td>1</td>\n",
       "      <td>0</td>\n",
       "      <td>0</td>\n",
       "      <td>35</td>\n",
       "      <td>2</td>\n",
       "      <td>740</td>\n",
       "      <td>123</td>\n",
       "      <td>176</td>\n",
       "      <td>31_40</td>\n",
       "      <td>female</td>\n",
       "    </tr>\n",
       "    <tr>\n",
       "      <th>1</th>\n",
       "      <td>41905</td>\n",
       "      <td>0</td>\n",
       "      <td>0</td>\n",
       "      <td>0</td>\n",
       "      <td>25</td>\n",
       "      <td>2</td>\n",
       "      <td>180</td>\n",
       "      <td>32</td>\n",
       "      <td>97</td>\n",
       "      <td>21_30</td>\n",
       "      <td>female</td>\n",
       "    </tr>\n",
       "    <tr>\n",
       "      <th>2</th>\n",
       "      <td>73087</td>\n",
       "      <td>0</td>\n",
       "      <td>0</td>\n",
       "      <td>0</td>\n",
       "      <td>28</td>\n",
       "      <td>1</td>\n",
       "      <td>692</td>\n",
       "      <td>214</td>\n",
       "      <td>205</td>\n",
       "      <td>21_30</td>\n",
       "      <td>male</td>\n",
       "    </tr>\n",
       "    <tr>\n",
       "      <th>3</th>\n",
       "      <td>4122</td>\n",
       "      <td>1</td>\n",
       "      <td>0</td>\n",
       "      <td>0</td>\n",
       "      <td>25</td>\n",
       "      <td>2</td>\n",
       "      <td>528</td>\n",
       "      <td>26</td>\n",
       "      <td>569</td>\n",
       "      <td>21_30</td>\n",
       "      <td>female</td>\n",
       "    </tr>\n",
       "    <tr>\n",
       "      <th>4</th>\n",
       "      <td>53139</td>\n",
       "      <td>1</td>\n",
       "      <td>0</td>\n",
       "      <td>0</td>\n",
       "      <td>26</td>\n",
       "      <td>1</td>\n",
       "      <td>694</td>\n",
       "      <td>40</td>\n",
       "      <td>102</td>\n",
       "      <td>21_30</td>\n",
       "      <td>male</td>\n",
       "    </tr>\n",
       "    <tr>\n",
       "      <th>...</th>\n",
       "      <td>...</td>\n",
       "      <td>...</td>\n",
       "      <td>...</td>\n",
       "      <td>...</td>\n",
       "      <td>...</td>\n",
       "      <td>...</td>\n",
       "      <td>...</td>\n",
       "      <td>...</td>\n",
       "      <td>...</td>\n",
       "      <td>...</td>\n",
       "      <td>...</td>\n",
       "    </tr>\n",
       "    <tr>\n",
       "      <th>99995</th>\n",
       "      <td>85674</td>\n",
       "      <td>0</td>\n",
       "      <td>0</td>\n",
       "      <td>0</td>\n",
       "      <td>33</td>\n",
       "      <td>2</td>\n",
       "      <td>233</td>\n",
       "      <td>88</td>\n",
       "      <td>460</td>\n",
       "      <td>31_40</td>\n",
       "      <td>female</td>\n",
       "    </tr>\n",
       "    <tr>\n",
       "      <th>99996</th>\n",
       "      <td>27014</td>\n",
       "      <td>1</td>\n",
       "      <td>0</td>\n",
       "      <td>0</td>\n",
       "      <td>30</td>\n",
       "      <td>1</td>\n",
       "      <td>203</td>\n",
       "      <td>32</td>\n",
       "      <td>79</td>\n",
       "      <td>21_30</td>\n",
       "      <td>male</td>\n",
       "    </tr>\n",
       "    <tr>\n",
       "      <th>99997</th>\n",
       "      <td>67693</td>\n",
       "      <td>1</td>\n",
       "      <td>0</td>\n",
       "      <td>0</td>\n",
       "      <td>32</td>\n",
       "      <td>1</td>\n",
       "      <td>116</td>\n",
       "      <td>10</td>\n",
       "      <td>67</td>\n",
       "      <td>31_40</td>\n",
       "      <td>male</td>\n",
       "    </tr>\n",
       "    <tr>\n",
       "      <th>99998</th>\n",
       "      <td>8138</td>\n",
       "      <td>1</td>\n",
       "      <td>0</td>\n",
       "      <td>0</td>\n",
       "      <td>22</td>\n",
       "      <td>2</td>\n",
       "      <td>540</td>\n",
       "      <td>176</td>\n",
       "      <td>356</td>\n",
       "      <td>21_30</td>\n",
       "      <td>female</td>\n",
       "    </tr>\n",
       "    <tr>\n",
       "      <th>99999</th>\n",
       "      <td>40665</td>\n",
       "      <td>1</td>\n",
       "      <td>0</td>\n",
       "      <td>0</td>\n",
       "      <td>25</td>\n",
       "      <td>2</td>\n",
       "      <td>965</td>\n",
       "      <td>41</td>\n",
       "      <td>520</td>\n",
       "      <td>21_30</td>\n",
       "      <td>female</td>\n",
       "    </tr>\n",
       "  </tbody>\n",
       "</table>\n",
       "<p>100000 rows × 11 columns</p>\n",
       "</div>"
      ],
      "text/plain": [
       "        user  expid  click  like  age  gender  friend_cnt  sns_like_cnt  \\\n",
       "0      58908      1      0     0   35       2         740           123   \n",
       "1      41905      0      0     0   25       2         180            32   \n",
       "2      73087      0      0     0   28       1         692           214   \n",
       "3       4122      1      0     0   25       2         528            26   \n",
       "4      53139      1      0     0   26       1         694            40   \n",
       "...      ...    ...    ...   ...  ...     ...         ...           ...   \n",
       "99995  85674      0      0     0   33       2         233            88   \n",
       "99996  27014      1      0     0   30       1         203            32   \n",
       "99997  67693      1      0     0   32       1         116            10   \n",
       "99998   8138      1      0     0   22       2         540           176   \n",
       "99999  40665      1      0     0   25       2         965            41   \n",
       "\n",
       "       sns_comment_cnt age_level gender_level  \n",
       "0                  176     31_40       female  \n",
       "1                   97     21_30       female  \n",
       "2                  205     21_30         male  \n",
       "3                  569     21_30       female  \n",
       "4                  102     21_30         male  \n",
       "...                ...       ...          ...  \n",
       "99995              460     31_40       female  \n",
       "99996               79     21_30         male  \n",
       "99997               67     31_40         male  \n",
       "99998              356     21_30       female  \n",
       "99999              520     21_30       female  \n",
       "\n",
       "[100000 rows x 11 columns]"
      ]
     },
     "execution_count": 6,
     "metadata": {},
     "output_type": "execute_result"
    }
   ],
   "source": [
    "df"
   ]
  },
  {
   "cell_type": "code",
   "execution_count": 9,
   "metadata": {},
   "outputs": [
    {
     "data": {
      "text/html": [
       "<div>\n",
       "<style scoped>\n",
       "    .dataframe tbody tr th:only-of-type {\n",
       "        vertical-align: middle;\n",
       "    }\n",
       "\n",
       "    .dataframe tbody tr th {\n",
       "        vertical-align: top;\n",
       "    }\n",
       "\n",
       "    .dataframe thead th {\n",
       "        text-align: right;\n",
       "    }\n",
       "</style>\n",
       "<table border=\"1\" class=\"dataframe\">\n",
       "  <thead>\n",
       "    <tr style=\"text-align: right;\">\n",
       "      <th></th>\n",
       "      <th>user</th>\n",
       "      <th>expid</th>\n",
       "      <th>click</th>\n",
       "      <th>like</th>\n",
       "      <th>age</th>\n",
       "      <th>gender</th>\n",
       "      <th>friend_cnt</th>\n",
       "      <th>sns_like_cnt</th>\n",
       "      <th>sns_comment_cnt</th>\n",
       "      <th>age_level</th>\n",
       "      <th>gender_level</th>\n",
       "    </tr>\n",
       "  </thead>\n",
       "  <tbody>\n",
       "    <tr>\n",
       "      <th>0</th>\n",
       "      <td>58908</td>\n",
       "      <td>1</td>\n",
       "      <td>0</td>\n",
       "      <td>0</td>\n",
       "      <td>35</td>\n",
       "      <td>2</td>\n",
       "      <td>740</td>\n",
       "      <td>123</td>\n",
       "      <td>176</td>\n",
       "      <td>31_40</td>\n",
       "      <td>female</td>\n",
       "    </tr>\n",
       "    <tr>\n",
       "      <th>1</th>\n",
       "      <td>41905</td>\n",
       "      <td>0</td>\n",
       "      <td>0</td>\n",
       "      <td>0</td>\n",
       "      <td>25</td>\n",
       "      <td>2</td>\n",
       "      <td>180</td>\n",
       "      <td>32</td>\n",
       "      <td>97</td>\n",
       "      <td>21_30</td>\n",
       "      <td>female</td>\n",
       "    </tr>\n",
       "    <tr>\n",
       "      <th>2</th>\n",
       "      <td>73087</td>\n",
       "      <td>0</td>\n",
       "      <td>0</td>\n",
       "      <td>0</td>\n",
       "      <td>28</td>\n",
       "      <td>1</td>\n",
       "      <td>692</td>\n",
       "      <td>214</td>\n",
       "      <td>205</td>\n",
       "      <td>21_30</td>\n",
       "      <td>male</td>\n",
       "    </tr>\n",
       "    <tr>\n",
       "      <th>3</th>\n",
       "      <td>4122</td>\n",
       "      <td>1</td>\n",
       "      <td>0</td>\n",
       "      <td>0</td>\n",
       "      <td>25</td>\n",
       "      <td>2</td>\n",
       "      <td>528</td>\n",
       "      <td>26</td>\n",
       "      <td>569</td>\n",
       "      <td>21_30</td>\n",
       "      <td>female</td>\n",
       "    </tr>\n",
       "    <tr>\n",
       "      <th>4</th>\n",
       "      <td>53139</td>\n",
       "      <td>1</td>\n",
       "      <td>0</td>\n",
       "      <td>0</td>\n",
       "      <td>26</td>\n",
       "      <td>1</td>\n",
       "      <td>694</td>\n",
       "      <td>40</td>\n",
       "      <td>102</td>\n",
       "      <td>21_30</td>\n",
       "      <td>male</td>\n",
       "    </tr>\n",
       "  </tbody>\n",
       "</table>\n",
       "</div>"
      ],
      "text/plain": [
       "    user  expid  click  like  age  gender  friend_cnt  sns_like_cnt  \\\n",
       "0  58908      1      0     0   35       2         740           123   \n",
       "1  41905      0      0     0   25       2         180            32   \n",
       "2  73087      0      0     0   28       1         692           214   \n",
       "3   4122      1      0     0   25       2         528            26   \n",
       "4  53139      1      0     0   26       1         694            40   \n",
       "\n",
       "   sns_comment_cnt age_level gender_level  \n",
       "0              176     31_40       female  \n",
       "1               97     21_30       female  \n",
       "2              205     21_30         male  \n",
       "3              569     21_30       female  \n",
       "4              102     21_30         male  "
      ]
     },
     "execution_count": 9,
     "metadata": {},
     "output_type": "execute_result"
    }
   ],
   "source": [
    "df.head(5)"
   ]
  },
  {
   "cell_type": "markdown",
   "metadata": {},
   "source": [
    "**Average treatment-effect of click**"
   ]
  },
  {
   "cell_type": "code",
   "execution_count": 7,
   "metadata": {},
   "outputs": [
    {
     "name": "stdout",
     "output_type": "stream",
     "text": [
      "0.008800000000000002\n",
      "(7.849010417026995, 4.2352949969904484e-15, 98312.97747114798) (0.0066025388562061405, 0.010997461143793864)\n"
     ]
    }
   ],
   "source": [
    "#ATE across all the users\n",
    "d_0 = df[df['expid'] == 0]['click']\n",
    "d_1 = df[df['expid'] == 1]['click']\n",
    "diff = np.mean(d_1) - np.mean(d_0)\n",
    "print(diff)\n",
    "cm = sms.CompareMeans(sms.DescrStatsW(d_1), sms.DescrStatsW(d_0))\n",
    "ttest = cm.ttest_ind(alternative = 'two-sided', usevar = 'unequal')\n",
    "ci=cm.tconfint_diff(alternative = 'two-sided', usevar = 'unequal')\n",
    "print(ttest,ci)"
   ]
  },
  {
   "cell_type": "markdown",
   "metadata": {},
   "source": [
    "**Treatment Effects with Regression**"
   ]
  },
  {
   "cell_type": "code",
   "execution_count": 9,
   "metadata": {},
   "outputs": [
    {
     "name": "stdout",
     "output_type": "stream",
     "text": [
      "                            OLS Regression Results                            \n",
      "==============================================================================\n",
      "Dep. Variable:                  click   R-squared:                       0.001\n",
      "Model:                            OLS   Adj. R-squared:                  0.001\n",
      "Method:                 Least Squares   F-statistic:                     61.61\n",
      "Date:                Wed, 29 Mar 2023   Prob (F-statistic):           4.23e-15\n",
      "Time:                        21:21:00   Log-Likelihood:                 31115.\n",
      "No. Observations:              100000   AIC:                        -6.223e+04\n",
      "Df Residuals:                   99998   BIC:                        -6.221e+04\n",
      "Df Model:                           1                                         \n",
      "Covariance Type:            nonrobust                                         \n",
      "==============================================================================\n",
      "                 coef    std err          t      P>|t|      [0.025      0.975]\n",
      "------------------------------------------------------------------------------\n",
      "Intercept      0.0281      0.001     35.445      0.000       0.027       0.030\n",
      "expid          0.0088      0.001      7.849      0.000       0.007       0.011\n",
      "==============================================================================\n",
      "Omnibus:                    99819.510   Durbin-Watson:                   1.999\n",
      "Prob(Omnibus):                  0.000   Jarque-Bera (JB):          3229791.909\n",
      "Skew:                           5.268   Prob(JB):                         0.00\n",
      "Kurtosis:                      28.771   Cond. No.                         2.62\n",
      "==============================================================================\n",
      "\n",
      "Notes:\n",
      "[1] Standard Errors assume that the covariance matrix of the errors is correctly specified.\n"
     ]
    }
   ],
   "source": [
    "mod = smf.ols(formula='click ~ expid', data=df)\n",
    "res = mod.fit()\n",
    "print(res.summary())"
   ]
  },
  {
   "cell_type": "markdown",
   "metadata": {},
   "source": [
    "**Across genders**"
   ]
  },
  {
   "cell_type": "code",
   "execution_count": 11,
   "metadata": {},
   "outputs": [
    {
     "name": "stdout",
     "output_type": "stream",
     "text": [
      "[['male', 0.00976033193436894, (0.006116616564402275, 0.013404047304335606)], ['female', 0.007927217459660667, (0.0052684094773919055, 0.01058602544192943)]]\n"
     ]
    }
   ],
   "source": [
    "gender_list = ['male', 'female']\n",
    "gender_res = []\n",
    "for x in gender_list:\n",
    "    tmp_d_0 = df[(df['expid'] == 0) & (df['gender_level'] == x)]['click']\n",
    "    tmp_d_1 = df[(df['expid'] == 1) & (df['gender_level'] == x)]['click']\n",
    "    tmp_diff = np.mean(tmp_d_1) - np.mean(tmp_d_0)\n",
    "    tmp_cm = sms.CompareMeans(sms.DescrStatsW(tmp_d_1), sms.DescrStatsW(tmp_d_0))\n",
    "    tmp_ci = tmp_cm.tconfint_diff(alpha = 0.05, alternative = 'two-sided', usevar = 'unequal')\n",
    "    gender_res.append([x, tmp_diff, tmp_ci])\n",
    "print(gender_res)"
   ]
  },
  {
   "cell_type": "markdown",
   "metadata": {},
   "source": [
    "**Plot CATE for males and females** "
   ]
  },
  {
   "cell_type": "code",
   "execution_count": 14,
   "metadata": {},
   "outputs": [
    {
     "data": {
      "text/plain": [
       "[Text(0, 0, 'male'), Text(0, 0, 'female')]"
      ]
     },
     "execution_count": 14,
     "metadata": {},
     "output_type": "execute_result"
    },
    {
     "data": {
      "image/png": "[encoded data removed]",
      "text/plain": [
       "<Figure size 432x288 with 1 Axes>"
      ]
     },
     "metadata": {
      "needs_background": "light"
     },
     "output_type": "display_data"
    }
   ],
   "source": [
    "for i in range(len(gender_res)):\n",
    "    diff = gender_res[i][1]\n",
    "    ci = gender_res[i][2]\n",
    "    plt.plot([i, i], [diff, diff], \"or\")\n",
    "    plt.plot([i, i], [ci[0], ci[1]], \":b\")\n",
    "f = plt.gca()\n",
    "f.set_xticks(range(len(gender_res)))\n",
    "f.set_xticklabels(gender_list)"
   ]
  },
  {
   "cell_type": "markdown",
   "metadata": {},
   "source": [
    "**Across age groups**"
   ]
  },
  {
   "cell_type": "code",
   "execution_count": 13,
   "metadata": {},
   "outputs": [
    {
     "name": "stdout",
     "output_type": "stream",
     "text": [
      "[['1_20', 0.009749430597524082, (0.0028267565803360515, 0.016672104614712115)], ['21_30', 0.005707122483953851, (0.003050012124477334, 0.008364232843430368)], ['31_40', 0.015032703999193618, (0.010335119098819161, 0.019730288899568075)], ['40+', 0.018089733545199715, (0.0005762022474573372, 0.035603264842942094)]]\n"
     ]
    }
   ],
   "source": [
    "age_list = ['1_20', '21_30', '31_40', '40+']\n",
    "age_res = []\n",
    "for x in age_list:\n",
    "    tmp_d_0 = df[(df['expid'] == 0) & (df['age_level'] == x)]['click']\n",
    "    tmp_d_1 = df[(df['expid'] == 1) & (df['age_level'] == x)]['click']\n",
    "    tmp_diff = np.mean(tmp_d_1) - np.mean(tmp_d_0)\n",
    "    tmp_cm = sms.CompareMeans(sms.DescrStatsW(tmp_d_1), sms.DescrStatsW(tmp_d_0))\n",
    "    tmp_ci = tmp_cm.tconfint_diff(alpha = 0.05, alternative = 'two-sided', usevar = 'unequal')\n",
    "    age_res.append([x, tmp_diff, tmp_ci])\n",
    "print(age_res)"
   ]
  },
  {
   "cell_type": "markdown",
   "metadata": {},
   "source": [
    "**Plot CATE for different age groups** "
   ]
  },
  {
   "cell_type": "code",
   "execution_count": 14,
   "metadata": {},
   "outputs": [
    {
     "data": {
      "text/plain": [
       "[Text(0, 0, '1_20'),\n",
       " Text(1, 0, '21_30'),\n",
       " Text(2, 0, '31_40'),\n",
       " Text(3, 0, '40+')]"
      ]
     },
     "execution_count": 14,
     "metadata": {},
     "output_type": "execute_result"
    },
    {
     "data": {
      "image/png": "[encoded data removed]",
      "text/plain": [
       "<Figure size 432x288 with 1 Axes>"
      ]
     },
     "metadata": {
      "needs_background": "light"
     },
     "output_type": "display_data"
    }
   ],
   "source": [
    "for i in range(len(age_res)):\n",
    "    diff = age_res[i][1]\n",
    "    ci = age_res[i][2]\n",
    "    plt.plot([i, i], [diff, diff], \"or\")\n",
    "    plt.plot([i, i], [ci[0], ci[1]], \":b\")\n",
    "f = plt.gca()\n",
    "f.set_xticks(range(len(age_res)))\n",
    "f.set_xticklabels(age_list)"
   ]
  },
  {
   "cell_type": "markdown",
   "metadata": {},
   "source": [
    "### Compare CATE between Genders & Impacts of Gender on Treatment Effects with OLS + Interaction Term "
   ]
  },
  {
   "cell_type": "code",
   "execution_count": 19,
   "metadata": {},
   "outputs": [],
   "source": [
    "#Transform gender into dummies\n",
    "df.gender=df.gender-1"
   ]
  },
  {
   "cell_type": "code",
   "execution_count": 20,
   "metadata": {},
   "outputs": [
    {
     "data": {
      "text/html": [
       "<div>\n",
       "<style scoped>\n",
       "    .dataframe tbody tr th:only-of-type {\n",
       "        vertical-align: middle;\n",
       "    }\n",
       "\n",
       "    .dataframe tbody tr th {\n",
       "        vertical-align: top;\n",
       "    }\n",
       "\n",
       "    .dataframe thead th {\n",
       "        text-align: right;\n",
       "    }\n",
       "</style>\n",
       "<table border=\"1\" class=\"dataframe\">\n",
       "  <thead>\n",
       "    <tr style=\"text-align: right;\">\n",
       "      <th></th>\n",
       "      <th>user</th>\n",
       "      <th>expid</th>\n",
       "      <th>click</th>\n",
       "      <th>like</th>\n",
       "      <th>age</th>\n",
       "      <th>gender</th>\n",
       "      <th>friend_cnt</th>\n",
       "      <th>sns_like_cnt</th>\n",
       "      <th>sns_comment_cnt</th>\n",
       "      <th>age_level</th>\n",
       "      <th>gender_level</th>\n",
       "    </tr>\n",
       "  </thead>\n",
       "  <tbody>\n",
       "    <tr>\n",
       "      <th>0</th>\n",
       "      <td>58908</td>\n",
       "      <td>1</td>\n",
       "      <td>0</td>\n",
       "      <td>0</td>\n",
       "      <td>35</td>\n",
       "      <td>1</td>\n",
       "      <td>740</td>\n",
       "      <td>123</td>\n",
       "      <td>176</td>\n",
       "      <td>31_40</td>\n",
       "      <td>female</td>\n",
       "    </tr>\n",
       "    <tr>\n",
       "      <th>1</th>\n",
       "      <td>41905</td>\n",
       "      <td>0</td>\n",
       "      <td>0</td>\n",
       "      <td>0</td>\n",
       "      <td>25</td>\n",
       "      <td>1</td>\n",
       "      <td>180</td>\n",
       "      <td>32</td>\n",
       "      <td>97</td>\n",
       "      <td>21_30</td>\n",
       "      <td>female</td>\n",
       "    </tr>\n",
       "    <tr>\n",
       "      <th>2</th>\n",
       "      <td>73087</td>\n",
       "      <td>0</td>\n",
       "      <td>0</td>\n",
       "      <td>0</td>\n",
       "      <td>28</td>\n",
       "      <td>0</td>\n",
       "      <td>692</td>\n",
       "      <td>214</td>\n",
       "      <td>205</td>\n",
       "      <td>21_30</td>\n",
       "      <td>male</td>\n",
       "    </tr>\n",
       "    <tr>\n",
       "      <th>3</th>\n",
       "      <td>4122</td>\n",
       "      <td>1</td>\n",
       "      <td>0</td>\n",
       "      <td>0</td>\n",
       "      <td>25</td>\n",
       "      <td>1</td>\n",
       "      <td>528</td>\n",
       "      <td>26</td>\n",
       "      <td>569</td>\n",
       "      <td>21_30</td>\n",
       "      <td>female</td>\n",
       "    </tr>\n",
       "    <tr>\n",
       "      <th>4</th>\n",
       "      <td>53139</td>\n",
       "      <td>1</td>\n",
       "      <td>0</td>\n",
       "      <td>0</td>\n",
       "      <td>26</td>\n",
       "      <td>0</td>\n",
       "      <td>694</td>\n",
       "      <td>40</td>\n",
       "      <td>102</td>\n",
       "      <td>21_30</td>\n",
       "      <td>male</td>\n",
       "    </tr>\n",
       "  </tbody>\n",
       "</table>\n",
       "</div>"
      ],
      "text/plain": [
       "    user  expid  click  like  age  gender  friend_cnt  sns_like_cnt  \\\n",
       "0  58908      1      0     0   35       1         740           123   \n",
       "1  41905      0      0     0   25       1         180            32   \n",
       "2  73087      0      0     0   28       0         692           214   \n",
       "3   4122      1      0     0   25       1         528            26   \n",
       "4  53139      1      0     0   26       0         694            40   \n",
       "\n",
       "   sns_comment_cnt age_level gender_level  \n",
       "0              176     31_40       female  \n",
       "1               97     21_30       female  \n",
       "2              205     21_30         male  \n",
       "3              569     21_30       female  \n",
       "4              102     21_30         male  "
      ]
     },
     "execution_count": 20,
     "metadata": {},
     "output_type": "execute_result"
    }
   ],
   "source": [
    "df.head(5)"
   ]
  },
  {
   "cell_type": "code",
   "execution_count": 21,
   "metadata": {},
   "outputs": [],
   "source": [
    "import statsmodels.formula.api as smf"
   ]
  },
  {
   "cell_type": "code",
   "execution_count": 22,
   "metadata": {},
   "outputs": [],
   "source": [
    "mod_gender = smf.ols(formula='click ~ gender + expid + gender*expid', data=df)"
   ]
  },
  {
   "cell_type": "code",
   "execution_count": 23,
   "metadata": {},
   "outputs": [],
   "source": [
    "res_gender = mod_gender.fit()"
   ]
  },
  {
   "cell_type": "code",
   "execution_count": 24,
   "metadata": {},
   "outputs": [
    {
     "name": "stdout",
     "output_type": "stream",
     "text": [
      "                            OLS Regression Results                            \n",
      "==============================================================================\n",
      "Dep. Variable:                  click   R-squared:                       0.002\n",
      "Model:                            OLS   Adj. R-squared:                  0.002\n",
      "Method:                 Least Squares   F-statistic:                     75.09\n",
      "Date:                Wed, 29 Mar 2023   Prob (F-statistic):           1.66e-48\n",
      "Time:                        21:27:42   Log-Likelihood:                 31196.\n",
      "No. Observations:              100000   AIC:                        -6.238e+04\n",
      "Df Residuals:                   99996   BIC:                        -6.235e+04\n",
      "Df Model:                           3                                         \n",
      "Covariance Type:            nonrobust                                         \n",
      "================================================================================\n",
      "                   coef    std err          t      P>|t|      [0.025      0.975]\n",
      "--------------------------------------------------------------------------------\n",
      "Intercept        0.0355      0.001     29.992      0.000       0.033       0.038\n",
      "gender          -0.0135      0.002     -8.446      0.000      -0.017      -0.010\n",
      "expid            0.0098      0.002      5.835      0.000       0.006       0.013\n",
      "gender:expid    -0.0018      0.002     -0.814      0.416      -0.006       0.003\n",
      "==============================================================================\n",
      "Omnibus:                    99649.338   Durbin-Watson:                   2.000\n",
      "Prob(Omnibus):                  0.000   Jarque-Bera (JB):          3209530.946\n",
      "Skew:                           5.255   Prob(JB):                         0.00\n",
      "Kurtosis:                      28.687   Cond. No.                         7.22\n",
      "==============================================================================\n",
      "\n",
      "Notes:\n",
      "[1] Standard Errors assume that the covariance matrix of the errors is correctly specified.\n"
     ]
    }
   ],
   "source": [
    "print(res_gender.summary())"
   ]
  },
  {
   "cell_type": "markdown",
   "metadata": {},
   "source": [
    "### Impacts of Age on Treatment Effects with OLS + Interaction Term"
   ]
  },
  {
   "cell_type": "code",
   "execution_count": 24,
   "metadata": {},
   "outputs": [],
   "source": [
    "# Age is a continous variance - test how age impact the treatment effects\n",
    "mod_age = smf.ols(formula='click ~ age + expid + age*expid', data=df)"
   ]
  },
  {
   "cell_type": "code",
   "execution_count": 31,
   "metadata": {},
   "outputs": [],
   "source": [
    "res_age = mod_age.fit()"
   ]
  },
  {
   "cell_type": "code",
   "execution_count": 32,
   "metadata": {},
   "outputs": [
    {
     "name": "stdout",
     "output_type": "stream",
     "text": [
      "                            OLS Regression Results                            \n",
      "==============================================================================\n",
      "Dep. Variable:                  click   R-squared:                       0.002\n",
      "Model:                            OLS   Adj. R-squared:                  0.002\n",
      "Method:                 Least Squares   F-statistic:                     61.14\n",
      "Date:                Thu, 02 Feb 2023   Prob (F-statistic):           1.75e-39\n",
      "Time:                        20:55:54   Log-Likelihood:                 31176.\n",
      "No. Observations:              100000   AIC:                        -6.234e+04\n",
      "Df Residuals:                   99996   BIC:                        -6.231e+04\n",
      "Df Model:                           3                                         \n",
      "Covariance Type:            nonrobust                                         \n",
      "==============================================================================\n",
      "                 coef    std err          t      P>|t|      [0.025      0.975]\n",
      "------------------------------------------------------------------------------\n",
      "Intercept      0.0064      0.004      1.595      0.111      -0.001       0.014\n",
      "age            0.0008      0.000      5.492      0.000       0.001       0.001\n",
      "expid         -0.0071      0.006     -1.247      0.213      -0.018       0.004\n",
      "age:expid      0.0006      0.000      2.840      0.005       0.000       0.001\n",
      "==============================================================================\n",
      "Omnibus:                    99694.881   Durbin-Watson:                   1.999\n",
      "Prob(Omnibus):                  0.000   Jarque-Bera (JB):          3215121.612\n",
      "Skew:                           5.258   Prob(JB):                         0.00\n",
      "Kurtosis:                      28.710   Cond. No.                         375.\n",
      "==============================================================================\n",
      "\n",
      "Notes:\n",
      "[1] Standard Errors assume that the covariance matrix of the errors is correctly specified.\n"
     ]
    }
   ],
   "source": [
    "print(res_age.summary())"
   ]
  },
  {
   "cell_type": "code",
   "execution_count": null,
   "metadata": {},
   "outputs": [],
   "source": []
  },
  {
   "cell_type": "code",
   "execution_count": null,
   "metadata": {},
   "outputs": [],
   "source": []
  },
  {
   "cell_type": "code",
   "execution_count": null,
   "metadata": {},
   "outputs": [],
   "source": []
  }
 ],
 "metadata": {
  "kernelspec": {
   "display_name": "Python 3",
   "language": "python",
   "name": "python3"
  },
  "language_info": {
   "codemirror_mode": {
    "name": "ipython",
    "version": 3
   },
   "file_extension": ".py",
   "mimetype": "text/x-python",
   "name": "python",
   "nbconvert_exporter": "python",
   "pygments_lexer": "ipython3",
   "version": "3.8.5"
  }
 },
 "nbformat": 4,
 "nbformat_minor": 4
}
