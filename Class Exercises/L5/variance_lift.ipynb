{
 "cells": [
  {
   "cell_type": "code",
   "execution_count": 3,
   "metadata": {},
   "outputs": [],
   "source": [
    "import numpy as np, statsmodels.stats.api as sms\n",
    "import itertools\n",
    "import matplotlib.pyplot as plt\n",
    "from matplotlib.ticker import NullFormatter\n",
    "import pandas as pd\n",
    "import numpy as np\n",
    "import matplotlib.ticker as ticker\n",
    "import random\n",
    "from sklearn import preprocessing"
   ]
  },
  {
   "cell_type": "code",
   "execution_count": 4,
   "metadata": {},
   "outputs": [
    {
     "name": "stdout",
     "output_type": "stream",
     "text": [
      "1.5000000000000013\n"
     ]
    }
   ],
   "source": [
    "#Population Characteristics\n",
    "lift = 1.1\n",
    "ctr0=0.5\n",
    "n0=1000\n",
    "n1=1000\n",
    "ctrl = np.random.binomial(30, p=ctr0, size=n0) * 1.0\n",
    "test = np.random.binomial(30, p=ctr0*lift, size=n1) * 1.0\n",
    "delta_p = 30*ctr0*(lift-1)\n",
    "print(delta_p)"
   ]
  },
  {
   "cell_type": "code",
   "execution_count": 5,
   "metadata": {},
   "outputs": [
    {
     "name": "stdout",
     "output_type": "stream",
     "text": [
      "1.0918612408272181\n"
     ]
    }
   ],
   "source": [
    "# Y1 bar and Y0 bar\n",
    "m1=np.mean(test)\n",
    "m0=np.mean(ctrl)  \n",
    "lift=m1/m0\n",
    "# variance of Y1 and Yo\n",
    "var0 = np.var(ctrl,ddof=1)\n",
    "var1 = np.var(test,ddof=1)\n",
    "print(lift)"
   ]
  },
  {
   "cell_type": "code",
   "execution_count": 6,
   "metadata": {},
   "outputs": [
    {
     "name": "stdout",
     "output_type": "stream",
     "text": [
      "0.007885785785785786 0.007203514514514514\n"
     ]
    }
   ],
   "source": [
    "# variance of Y1 bar and Y0 bar\n",
    "var_m0=var0/n0\n",
    "var_m1=var1/n1\n",
    "print(var_m0, var_m1)"
   ]
  },
  {
   "cell_type": "code",
   "execution_count": 7,
   "metadata": {},
   "outputs": [],
   "source": [
    "var_lift = (1/m0**2)*var_m1+(m1**2/m0**4)*var_m0"
   ]
  },
  {
   "cell_type": "code",
   "execution_count": 8,
   "metadata": {},
   "outputs": [],
   "source": [
    "se_lift=np.sqrt(var_lift)"
   ]
  },
  {
   "cell_type": "code",
   "execution_count": 9,
   "metadata": {},
   "outputs": [
    {
     "name": "stdout",
     "output_type": "stream",
     "text": [
      "0.008596330540126679\n"
     ]
    }
   ],
   "source": [
    "print(se_lift)"
   ]
  },
  {
   "cell_type": "code",
   "execution_count": 10,
   "metadata": {},
   "outputs": [],
   "source": [
    "ci = (lift-1.96*se_lift,lift+1.96*se_lift)"
   ]
  },
  {
   "cell_type": "code",
   "execution_count": 11,
   "metadata": {},
   "outputs": [
    {
     "name": "stdout",
     "output_type": "stream",
     "text": [
      "(1.0750124329685697, 1.1087100486858665)\n"
     ]
    }
   ],
   "source": [
    "print(ci)"
   ]
  },
  {
   "cell_type": "code",
   "execution_count": 10,
   "metadata": {},
   "outputs": [
    {
     "name": "stdout",
     "output_type": "stream",
     "text": [
      "Requirement already satisfied: bootstrapped in /Users/shanh18/opt/anaconda3/lib/python3.7/site-packages (0.0.2)\n",
      "Requirement already satisfied: numpy>=1.11.1 in /Users/shanh18/opt/anaconda3/lib/python3.7/site-packages (from bootstrapped) (1.18.1)\n",
      "Requirement already satisfied: matplotlib>=1.5.3 in /Users/shanh18/opt/anaconda3/lib/python3.7/site-packages (from bootstrapped) (3.1.3)\n",
      "Requirement already satisfied: pandas>=0.18.1 in /Users/shanh18/opt/anaconda3/lib/python3.7/site-packages (from bootstrapped) (1.0.1)\n",
      "Requirement already satisfied: kiwisolver>=1.0.1 in /Users/shanh18/opt/anaconda3/lib/python3.7/site-packages (from matplotlib>=1.5.3->bootstrapped) (1.1.0)\n",
      "Requirement already satisfied: cycler>=0.10 in /Users/shanh18/opt/anaconda3/lib/python3.7/site-packages (from matplotlib>=1.5.3->bootstrapped) (0.10.0)\n",
      "Requirement already satisfied: pyparsing!=2.0.4,!=2.1.2,!=2.1.6,>=2.0.1 in /Users/shanh18/opt/anaconda3/lib/python3.7/site-packages (from matplotlib>=1.5.3->bootstrapped) (2.4.6)\n",
      "Requirement already satisfied: python-dateutil>=2.1 in /Users/shanh18/opt/anaconda3/lib/python3.7/site-packages (from matplotlib>=1.5.3->bootstrapped) (2.8.1)\n",
      "Requirement already satisfied: pytz>=2017.2 in /Users/shanh18/opt/anaconda3/lib/python3.7/site-packages (from pandas>=0.18.1->bootstrapped) (2019.3)\n",
      "Requirement already satisfied: setuptools in /Users/shanh18/opt/anaconda3/lib/python3.7/site-packages (from kiwisolver>=1.0.1->matplotlib>=1.5.3->bootstrapped) (46.0.0.post20200309)\n",
      "Requirement already satisfied: six in /Users/shanh18/opt/anaconda3/lib/python3.7/site-packages (from cycler>=0.10->matplotlib>=1.5.3->bootstrapped) (1.14.0)\n",
      "Note: you may need to restart the kernel to use updated packages.\n"
     ]
    }
   ],
   "source": [
    "pip install bootstrapped"
   ]
  },
  {
   "cell_type": "code",
   "execution_count": 15,
   "metadata": {},
   "outputs": [],
   "source": [
    "import bootstrapped.bootstrap as bs\n",
    "import bootstrapped.compare_functions as bs_compare\n",
    "import bootstrapped.stats_functions as bs_stats"
   ]
  },
  {
   "cell_type": "code",
   "execution_count": 16,
   "metadata": {},
   "outputs": [],
   "source": [
    "ctrl = np.array(ctrl)\n",
    "test = np.array(test)"
   ]
  },
  {
   "cell_type": "code",
   "execution_count": 17,
   "metadata": {},
   "outputs": [
    {
     "name": "stdout",
     "output_type": "stream",
     "text": [
      "9.18612408272182    (7.508417171051148, 10.811030595629683)\n"
     ]
    }
   ],
   "source": [
    "print(bs.bootstrap_ab(\n",
    "    test, \n",
    "    ctrl, \n",
    "    stat_func=bs_stats.mean,\n",
    "    compare_func=bs_compare.percent_change,\n",
    "    alpha=0.05))"
   ]
  },
  {
   "cell_type": "code",
   "execution_count": null,
   "metadata": {},
   "outputs": [],
   "source": []
  },
  {
   "cell_type": "code",
   "execution_count": null,
   "metadata": {},
   "outputs": [],
   "source": []
  },
  {
   "cell_type": "code",
   "execution_count": null,
   "metadata": {},
   "outputs": [],
   "source": []
  }
 ],
 "metadata": {
  "kernelspec": {
   "display_name": "Python 3",
   "language": "python",
   "name": "python3"
  },
  "language_info": {
   "codemirror_mode": {
    "name": "ipython",
    "version": 3
   },
   "file_extension": ".py",
   "mimetype": "text/x-python",
   "name": "python",
   "nbconvert_exporter": "python",
   "pygments_lexer": "ipython3",
   "version": "3.8.5"
  }
 },
 "nbformat": 4,
 "nbformat_minor": 4
}
