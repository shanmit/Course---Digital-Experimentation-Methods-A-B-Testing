{
 "cells": [
  {
   "cell_type": "code",
   "execution_count": 2,
   "metadata": {},
   "outputs": [],
   "source": [
    "import numpy as np\n",
    "import pandas as pd\n",
    "import statsmodels.stats.api as sms\n",
    "import matplotlib.pyplot as plt"
   ]
  },
  {
   "cell_type": "code",
   "execution_count": 3,
   "metadata": {},
   "outputs": [],
   "source": [
    "infile = 'sample_data_aatest.csv'"
   ]
  },
  {
   "cell_type": "code",
   "execution_count": 4,
   "metadata": {},
   "outputs": [],
   "source": [
    "df = pd.read_csv(infile)"
   ]
  },
  {
   "cell_type": "code",
   "execution_count": 5,
   "metadata": {},
   "outputs": [
    {
     "data": {
      "text/html": [
       "<div>\n",
       "<style scoped>\n",
       "    .dataframe tbody tr th:only-of-type {\n",
       "        vertical-align: middle;\n",
       "    }\n",
       "\n",
       "    .dataframe tbody tr th {\n",
       "        vertical-align: top;\n",
       "    }\n",
       "\n",
       "    .dataframe thead th {\n",
       "        text-align: right;\n",
       "    }\n",
       "</style>\n",
       "<table border=\"1\" class=\"dataframe\">\n",
       "  <thead>\n",
       "    <tr style=\"text-align: right;\">\n",
       "      <th></th>\n",
       "      <th>user</th>\n",
       "      <th>expid</th>\n",
       "      <th>click</th>\n",
       "      <th>like</th>\n",
       "      <th>age</th>\n",
       "      <th>gender</th>\n",
       "      <th>friend_cnt</th>\n",
       "      <th>sns_like_cnt</th>\n",
       "      <th>sns_comment_cnt</th>\n",
       "    </tr>\n",
       "  </thead>\n",
       "  <tbody>\n",
       "    <tr>\n",
       "      <th>0</th>\n",
       "      <td>13969</td>\n",
       "      <td>1</td>\n",
       "      <td>0</td>\n",
       "      <td>0</td>\n",
       "      <td>18</td>\n",
       "      <td>2</td>\n",
       "      <td>60</td>\n",
       "      <td>16</td>\n",
       "      <td>42</td>\n",
       "    </tr>\n",
       "    <tr>\n",
       "      <th>1</th>\n",
       "      <td>60948</td>\n",
       "      <td>0</td>\n",
       "      <td>0</td>\n",
       "      <td>0</td>\n",
       "      <td>20</td>\n",
       "      <td>2</td>\n",
       "      <td>712</td>\n",
       "      <td>218</td>\n",
       "      <td>257</td>\n",
       "    </tr>\n",
       "    <tr>\n",
       "      <th>2</th>\n",
       "      <td>9987</td>\n",
       "      <td>0</td>\n",
       "      <td>1</td>\n",
       "      <td>0</td>\n",
       "      <td>32</td>\n",
       "      <td>2</td>\n",
       "      <td>378</td>\n",
       "      <td>39</td>\n",
       "      <td>187</td>\n",
       "    </tr>\n",
       "    <tr>\n",
       "      <th>3</th>\n",
       "      <td>93677</td>\n",
       "      <td>1</td>\n",
       "      <td>0</td>\n",
       "      <td>0</td>\n",
       "      <td>36</td>\n",
       "      <td>2</td>\n",
       "      <td>136</td>\n",
       "      <td>51</td>\n",
       "      <td>67</td>\n",
       "    </tr>\n",
       "    <tr>\n",
       "      <th>4</th>\n",
       "      <td>43465</td>\n",
       "      <td>0</td>\n",
       "      <td>0</td>\n",
       "      <td>0</td>\n",
       "      <td>25</td>\n",
       "      <td>2</td>\n",
       "      <td>555</td>\n",
       "      <td>238</td>\n",
       "      <td>220</td>\n",
       "    </tr>\n",
       "  </tbody>\n",
       "</table>\n",
       "</div>"
      ],
      "text/plain": [
       "    user  expid  click  like  age  gender  friend_cnt  sns_like_cnt  \\\n",
       "0  13969      1      0     0   18       2          60            16   \n",
       "1  60948      0      0     0   20       2         712           218   \n",
       "2   9987      0      1     0   32       2         378            39   \n",
       "3  93677      1      0     0   36       2         136            51   \n",
       "4  43465      0      0     0   25       2         555           238   \n",
       "\n",
       "   sns_comment_cnt  \n",
       "0               42  \n",
       "1              257  \n",
       "2              187  \n",
       "3               67  \n",
       "4              220  "
      ]
     },
     "execution_count": 5,
     "metadata": {},
     "output_type": "execute_result"
    }
   ],
   "source": [
    "df.head(5)"
   ]
  },
  {
   "cell_type": "code",
   "execution_count": 5,
   "metadata": {},
   "outputs": [
    {
     "data": {
      "text/plain": [
       "(100000, 9)"
      ]
     },
     "execution_count": 5,
     "metadata": {},
     "output_type": "execute_result"
    }
   ],
   "source": [
    "df.shape"
   ]
  },
  {
   "cell_type": "markdown",
   "metadata": {},
   "source": [
    "### Show Distributions"
   ]
  },
  {
   "cell_type": "code",
   "execution_count": 6,
   "metadata": {},
   "outputs": [
    {
     "data": {
      "text/plain": [
       "<AxesSubplot:ylabel='Frequency'>"
      ]
     },
     "execution_count": 6,
     "metadata": {},
     "output_type": "execute_result"
    },
    {
     "data": {
      "image/png": "[encoded data removed]",
      "text/plain": [
       "<Figure size 432x288 with 1 Axes>"
      ]
     },
     "metadata": {
      "needs_background": "light"
     },
     "output_type": "display_data"
    }
   ],
   "source": [
    "# age distribution\n",
    "df.age.plot.hist(bins = 50, edgecolor = 'black')"
   ]
  },
  {
   "cell_type": "code",
   "execution_count": 7,
   "metadata": {},
   "outputs": [
    {
     "data": {
      "text/plain": [
       "<AxesSubplot:ylabel='Frequency'>"
      ]
     },
     "execution_count": 7,
     "metadata": {},
     "output_type": "execute_result"
    },
    {
     "data": {
      "image/png": "[encoded data removed]",
      "text/plain": [
       "<Figure size 432x288 with 1 Axes>"
      ]
     },
     "metadata": {
      "needs_background": "light"
     },
     "output_type": "display_data"
    }
   ],
   "source": [
    "# sns_comment_cnt\n",
    "df.sns_comment_cnt.plot.hist(bins = 100, edgecolor = 'black')"
   ]
  },
  {
   "cell_type": "code",
   "execution_count": 8,
   "metadata": {},
   "outputs": [
    {
     "data": {
      "text/plain": [
       "<AxesSubplot:ylabel='Frequency'>"
      ]
     },
     "execution_count": 8,
     "metadata": {},
     "output_type": "execute_result"
    },
    {
     "data": {
      "image/png": "[encoded data removed]",
      "text/plain": [
       "<Figure size 432x288 with 1 Axes>"
      ]
     },
     "metadata": {
      "needs_background": "light"
     },
     "output_type": "display_data"
    }
   ],
   "source": [
    "# friend_cnt\n",
    "df.friend_cnt.plot.hist(bins = 50, edgecolor = 'black')"
   ]
  },
  {
   "cell_type": "code",
   "execution_count": 9,
   "metadata": {},
   "outputs": [
    {
     "data": {
      "text/plain": [
       "<AxesSubplot:ylabel='Frequency'>"
      ]
     },
     "execution_count": 9,
     "metadata": {},
     "output_type": "execute_result"
    },
    {
     "data": {
      "image/png": "[encoded data removed]",
      "text/plain": [
       "<Figure size 432x288 with 1 Axes>"
      ]
     },
     "metadata": {
      "needs_background": "light"
     },
     "output_type": "display_data"
    }
   ],
   "source": [
    "# sns_like_cnt\n",
    "df.sns_like_cnt.plot.hist(bins = 50, edgecolor = 'black')"
   ]
  },
  {
   "cell_type": "code",
   "execution_count": 10,
   "metadata": {},
   "outputs": [
    {
     "data": {
      "text/plain": [
       "<AxesSubplot:ylabel='Frequency'>"
      ]
     },
     "execution_count": 10,
     "metadata": {},
     "output_type": "execute_result"
    },
    {
     "data": {
      "image/png": "[encoded data removed]",
      "text/plain": [
       "<Figure size 432x288 with 1 Axes>"
      ]
     },
     "metadata": {
      "needs_background": "light"
     },
     "output_type": "display_data"
    }
   ],
   "source": [
    "# like\n",
    "df.like.plot.hist(bins = 3, edgecolor = 'black')"
   ]
  },
  {
   "cell_type": "code",
   "execution_count": 11,
   "metadata": {},
   "outputs": [
    {
     "data": {
      "text/plain": [
       "<AxesSubplot:ylabel='Frequency'>"
      ]
     },
     "execution_count": 11,
     "metadata": {},
     "output_type": "execute_result"
    },
    {
     "data": {
      "image/png": "[encoded data removed]",
      "text/plain": [
       "<Figure size 432x288 with 1 Axes>"
      ]
     },
     "metadata": {
      "needs_background": "light"
     },
     "output_type": "display_data"
    }
   ],
   "source": [
    "# click\n",
    "df.click.plot.hist(bins = 3, edgecolor = 'black')"
   ]
  },
  {
   "cell_type": "code",
   "execution_count": 12,
   "metadata": {},
   "outputs": [
    {
     "data": {
      "text/plain": [
       "<AxesSubplot:ylabel='Frequency'>"
      ]
     },
     "execution_count": 12,
     "metadata": {},
     "output_type": "execute_result"
    },
    {
     "data": {
      "image/png": "[encoded data removed]",
      "text/plain": [
       "<Figure size 432x288 with 1 Axes>"
      ]
     },
     "metadata": {
      "needs_background": "light"
     },
     "output_type": "display_data"
    }
   ],
   "source": [
    "# expid\n",
    "df.expid.plot.hist(bins = 3, edgecolor = 'black')"
   ]
  },
  {
   "cell_type": "code",
   "execution_count": 15,
   "metadata": {},
   "outputs": [
    {
     "data": {
      "text/html": [
       "<div>\n",
       "<style scoped>\n",
       "    .dataframe tbody tr th:only-of-type {\n",
       "        vertical-align: middle;\n",
       "    }\n",
       "\n",
       "    .dataframe tbody tr th {\n",
       "        vertical-align: top;\n",
       "    }\n",
       "\n",
       "    .dataframe thead th {\n",
       "        text-align: right;\n",
       "    }\n",
       "</style>\n",
       "<table border=\"1\" class=\"dataframe\">\n",
       "  <thead>\n",
       "    <tr style=\"text-align: right;\">\n",
       "      <th></th>\n",
       "      <th>user</th>\n",
       "      <th>expid</th>\n",
       "      <th>click</th>\n",
       "      <th>like</th>\n",
       "      <th>age</th>\n",
       "      <th>gender</th>\n",
       "      <th>friend_cnt</th>\n",
       "      <th>sns_like_cnt</th>\n",
       "      <th>sns_comment_cnt</th>\n",
       "    </tr>\n",
       "  </thead>\n",
       "  <tbody>\n",
       "    <tr>\n",
       "      <th>count</th>\n",
       "      <td>33729.000000</td>\n",
       "      <td>33729.0</td>\n",
       "      <td>33729.000000</td>\n",
       "      <td>33729.000000</td>\n",
       "      <td>33729.000000</td>\n",
       "      <td>33729.000000</td>\n",
       "      <td>33729.000000</td>\n",
       "      <td>33729.000000</td>\n",
       "      <td>33729.000000</td>\n",
       "    </tr>\n",
       "    <tr>\n",
       "      <th>mean</th>\n",
       "      <td>50089.265528</td>\n",
       "      <td>2.0</td>\n",
       "      <td>0.028729</td>\n",
       "      <td>0.015595</td>\n",
       "      <td>27.644164</td>\n",
       "      <td>1.554953</td>\n",
       "      <td>413.899285</td>\n",
       "      <td>89.391414</td>\n",
       "      <td>165.654007</td>\n",
       "    </tr>\n",
       "    <tr>\n",
       "      <th>std</th>\n",
       "      <td>28834.694726</td>\n",
       "      <td>0.0</td>\n",
       "      <td>0.167046</td>\n",
       "      <td>0.123904</td>\n",
       "      <td>5.609647</td>\n",
       "      <td>0.496978</td>\n",
       "      <td>463.987295</td>\n",
       "      <td>203.188061</td>\n",
       "      <td>216.061155</td>\n",
       "    </tr>\n",
       "    <tr>\n",
       "      <th>min</th>\n",
       "      <td>6.000000</td>\n",
       "      <td>2.0</td>\n",
       "      <td>0.000000</td>\n",
       "      <td>0.000000</td>\n",
       "      <td>10.000000</td>\n",
       "      <td>1.000000</td>\n",
       "      <td>13.000000</td>\n",
       "      <td>0.000000</td>\n",
       "      <td>0.000000</td>\n",
       "    </tr>\n",
       "    <tr>\n",
       "      <th>25%</th>\n",
       "      <td>25234.000000</td>\n",
       "      <td>2.0</td>\n",
       "      <td>0.000000</td>\n",
       "      <td>0.000000</td>\n",
       "      <td>24.000000</td>\n",
       "      <td>1.000000</td>\n",
       "      <td>179.000000</td>\n",
       "      <td>15.000000</td>\n",
       "      <td>36.000000</td>\n",
       "    </tr>\n",
       "    <tr>\n",
       "      <th>50%</th>\n",
       "      <td>49868.000000</td>\n",
       "      <td>2.0</td>\n",
       "      <td>0.000000</td>\n",
       "      <td>0.000000</td>\n",
       "      <td>27.000000</td>\n",
       "      <td>2.000000</td>\n",
       "      <td>282.000000</td>\n",
       "      <td>41.000000</td>\n",
       "      <td>94.000000</td>\n",
       "    </tr>\n",
       "    <tr>\n",
       "      <th>75%</th>\n",
       "      <td>75059.000000</td>\n",
       "      <td>2.0</td>\n",
       "      <td>0.000000</td>\n",
       "      <td>0.000000</td>\n",
       "      <td>31.000000</td>\n",
       "      <td>2.000000</td>\n",
       "      <td>468.000000</td>\n",
       "      <td>97.000000</td>\n",
       "      <td>211.000000</td>\n",
       "    </tr>\n",
       "    <tr>\n",
       "      <th>max</th>\n",
       "      <td>100000.000000</td>\n",
       "      <td>2.0</td>\n",
       "      <td>1.000000</td>\n",
       "      <td>1.000000</td>\n",
       "      <td>60.000000</td>\n",
       "      <td>2.000000</td>\n",
       "      <td>10680.000000</td>\n",
       "      <td>11376.000000</td>\n",
       "      <td>3184.000000</td>\n",
       "    </tr>\n",
       "  </tbody>\n",
       "</table>\n",
       "</div>"
      ],
      "text/plain": [
       "                user    expid         click          like           age  \\\n",
       "count   33729.000000  33729.0  33729.000000  33729.000000  33729.000000   \n",
       "mean    50089.265528      2.0      0.028729      0.015595     27.644164   \n",
       "std     28834.694726      0.0      0.167046      0.123904      5.609647   \n",
       "min         6.000000      2.0      0.000000      0.000000     10.000000   \n",
       "25%     25234.000000      2.0      0.000000      0.000000     24.000000   \n",
       "50%     49868.000000      2.0      0.000000      0.000000     27.000000   \n",
       "75%     75059.000000      2.0      0.000000      0.000000     31.000000   \n",
       "max    100000.000000      2.0      1.000000      1.000000     60.000000   \n",
       "\n",
       "             gender    friend_cnt  sns_like_cnt  sns_comment_cnt  \n",
       "count  33729.000000  33729.000000  33729.000000     33729.000000  \n",
       "mean       1.554953    413.899285     89.391414       165.654007  \n",
       "std        0.496978    463.987295    203.188061       216.061155  \n",
       "min        1.000000     13.000000      0.000000         0.000000  \n",
       "25%        1.000000    179.000000     15.000000        36.000000  \n",
       "50%        2.000000    282.000000     41.000000        94.000000  \n",
       "75%        2.000000    468.000000     97.000000       211.000000  \n",
       "max        2.000000  10680.000000  11376.000000      3184.000000  "
      ]
     },
     "execution_count": 15,
     "metadata": {},
     "output_type": "execute_result"
    }
   ],
   "source": [
    "df[df['expid'] == 2].describe()"
   ]
  },
  {
   "cell_type": "markdown",
   "metadata": {},
   "source": [
    "### Randomization Checks"
   ]
  },
  {
   "cell_type": "code",
   "execution_count": 16,
   "metadata": {},
   "outputs": [
    {
     "name": "stdout",
     "output_type": "stream",
     "text": [
      "click\n",
      "(-0.0019913691840344316, 0.003049225038913554)\n",
      "(-0.0028053497158239053, 0.002253017947726143)\n",
      "(-0.0033178318488350247, 0.0017076442258581403)\n",
      "like\n",
      "(-0.0029924860957550696, 0.0009071930722444159)\n",
      "(-0.0013409002840902857, 0.0024521956034138656)\n",
      "(-0.00032455477532386794, 0.0035211431181581014)\n",
      "age\n",
      "(-0.08509572589894755, 0.08304880096864277)\n",
      "(-0.06973486633165578, 0.0993880428141037)\n",
      "(-0.06835116276525886, 0.10005126417801156)\n",
      "gender\n",
      "(-0.005184227577428383, 0.009953215980546284)\n",
      "(-0.006952113328526245, 0.0081308674117469)\n",
      "(-0.009323254145376499, 0.005733019825479253)\n",
      "friend_cnt\n",
      "(-10.723110083918368, 3.7505764307351903)\n",
      "(-4.060584867921881, 10.07766144176174)\n",
      "(-0.6738545011246799, 13.663464728147716)\n",
      "sns_like_cnt\n",
      "(-2.6188875655353523, 4.434424205635317)\n",
      "(-2.9907063350752945, 3.5377979002846085)\n",
      "(-3.97097352732027, 2.70252845242962)\n",
      "sns_comment_cnt\n",
      "(-4.461183543114147, 2.1759428953387223)\n",
      "(-4.08045593219401, 2.459067109920962)\n",
      "(-2.97728262942097, 3.641134454923347)\n"
     ]
    }
   ],
   "source": [
    "def multi_cm(x):\n",
    "    x0 = df[df['expid'] == 0][x]\n",
    "    x1 = df[df['expid'] == 1][x]\n",
    "    x2 = df[df['expid'] == 2][x]\n",
    "    cm01 = sms.CompareMeans(sms.DescrStatsW(x0), sms.DescrStatsW(x1))\n",
    "    cm02 = sms.CompareMeans(sms.DescrStatsW(x0), sms.DescrStatsW(x2))\n",
    "    cm12 = sms.CompareMeans(sms.DescrStatsW(x1), sms.DescrStatsW(x2))\n",
    "    print(x)\n",
    "    print(cm01.tconfint_diff(alpha=0.05, alternative='two-sided', usevar='pooled'))\n",
    "    print(cm02.tconfint_diff(alpha=0.05, alternative='two-sided', usevar='pooled')) \n",
    "    print(cm12.tconfint_diff(alpha=0.05, alternative='two-sided', usevar='pooled'))\n",
    "    return\n",
    "for feature in df.columns[2:]:\n",
    "    multi_cm(feature)"
   ]
  },
  {
   "cell_type": "markdown",
   "metadata": {},
   "source": [
    "### Estimate Baseline Metrics"
   ]
  },
  {
   "cell_type": "code",
   "execution_count": 17,
   "metadata": {},
   "outputs": [],
   "source": [
    "like0=np.mean(df.like)\n",
    "var_like0=np.var(df.like)"
   ]
  },
  {
   "cell_type": "code",
   "execution_count": 18,
   "metadata": {},
   "outputs": [],
   "source": [
    "click0=np.mean(df.click)\n",
    "var_click0=np.var(df.click)"
   ]
  },
  {
   "cell_type": "code",
   "execution_count": 19,
   "metadata": {},
   "outputs": [],
   "source": [
    "sns_like_cnt0=np.mean(df.sns_like_cnt)\n",
    "var_sns_like_cnt0=np.var(df.sns_like_cnt)"
   ]
  },
  {
   "cell_type": "code",
   "execution_count": 20,
   "metadata": {},
   "outputs": [],
   "source": [
    "sns_comment_cnt0=np.mean(df.sns_comment_cnt)\n",
    "var_sns_comment_cnt0=np.var(df.sns_comment_cnt)"
   ]
  },
  {
   "cell_type": "code",
   "execution_count": 21,
   "metadata": {},
   "outputs": [
    {
     "name": "stdout",
     "output_type": "stream",
     "text": [
      "(0.01631, 0.016043983900039627) (0.02837, 0.027565143099944938) (89.27069, 49470.08475692851) (165.49689, 47219.50135032698)\n"
     ]
    }
   ],
   "source": [
    "print((like0,var_like0),(click0,var_click0),(sns_like_cnt0,var_sns_like_cnt0),(sns_comment_cnt0,var_sns_comment_cnt0))"
   ]
  },
  {
   "cell_type": "markdown",
   "metadata": {},
   "source": [
    "### Power Analysis "
   ]
  },
  {
   "cell_type": "markdown",
   "metadata": {},
   "source": [
    "#### click"
   ]
  },
  {
   "cell_type": "code",
   "execution_count": 22,
   "metadata": {},
   "outputs": [
    {
     "name": "stdout",
     "output_type": "stream",
     "text": [
      "0.002837\n"
     ]
    }
   ],
   "source": [
    "practical_lift = 0.1\n",
    "delta_click = practical_lift*click0\n",
    "print(delta_click)"
   ]
  },
  {
   "cell_type": "markdown",
   "metadata": {},
   "source": [
    "Sample Size"
   ]
  },
  {
   "cell_type": "code",
   "execution_count": 28,
   "metadata": {},
   "outputs": [],
   "source": [
    "size_click = 16*var_click0/(delta_click**2)"
   ]
  },
  {
   "cell_type": "code",
   "execution_count": 29,
   "metadata": {},
   "outputs": [
    {
     "name": "stdout",
     "output_type": "stream",
     "text": [
      "54797.6031017587\n"
     ]
    }
   ],
   "source": [
    "print(size_click)"
   ]
  },
  {
   "cell_type": "code",
   "execution_count": 30,
   "metadata": {},
   "outputs": [
    {
     "name": "stdout",
     "output_type": "stream",
     "text": [
      "0.0016310000000000003\n"
     ]
    }
   ],
   "source": [
    "delta_like = (practical_lift)*like0\n",
    "print(delta_like)"
   ]
  },
  {
   "cell_type": "code",
   "execution_count": 31,
   "metadata": {},
   "outputs": [],
   "source": [
    "size_like = 16*var_like0/(delta_like**2)"
   ]
  },
  {
   "cell_type": "code",
   "execution_count": 32,
   "metadata": {},
   "outputs": [
    {
     "name": "stdout",
     "output_type": "stream",
     "text": [
      "96499.32556737504\n"
     ]
    }
   ],
   "source": [
    "print(size_like)"
   ]
  },
  {
   "cell_type": "code",
   "execution_count": null,
   "metadata": {},
   "outputs": [],
   "source": []
  },
  {
   "cell_type": "code",
   "execution_count": null,
   "metadata": {},
   "outputs": [],
   "source": []
  }
 ],
 "metadata": {
  "kernelspec": {
   "display_name": "Python 3",
   "language": "python",
   "name": "python3"
  },
  "language_info": {
   "codemirror_mode": {
    "name": "ipython",
    "version": 3
   },
   "file_extension": ".py",
   "mimetype": "text/x-python",
   "name": "python",
   "nbconvert_exporter": "python",
   "pygments_lexer": "ipython3",
   "version": "3.8.5"
  }
 },
 "nbformat": 4,
 "nbformat_minor": 4
}
