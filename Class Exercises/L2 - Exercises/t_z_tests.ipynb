{
 "cells": [
  {
   "cell_type": "markdown",
   "metadata": {},
   "source": [
    "# Compare Means\n",
    "\n",
    "#### A/B Test Example \n",
    "\n",
    "Considering WeChat wants to use algorithms to rank the feeds on WeChat Moments instead of showing the organic feeds chronologically.\n",
    "\n",
    "**We are testing the two approaches to rank the feeds:** \n",
    "\n",
    "Control Group: show feeds chronologically\n",
    "\n",
    "Treatment Group: Rank feeds with algorithms\n",
    "\n",
    "Metric (#days): the number of days that a user clicks any feeds on WeChat Moments during the recent 30 days. \n",
    "\n",
    "**Objective**: Find whether $\\mu_1$ is signfiicantly different from $\\mu_0$, \n",
    "\n",
    "Ho: $\\delta$ = $\\mu_1$ - $\\mu_0$ = 0 "
   ]
  },
  {
   "cell_type": "code",
   "execution_count": 2,
   "metadata": {},
   "outputs": [],
   "source": [
    "import numpy as np, statsmodels.stats.api as sms\n",
    "import itertools\n",
    "import matplotlib.pyplot as plt\n",
    "from matplotlib.ticker import NullFormatter\n",
    "import pandas as pd\n",
    "import matplotlib.ticker as ticker\n",
    "from sklearn import preprocessing\n",
    "import scipy.stats as st\n",
    "import random\n",
    "import pandas as pd"
   ]
  },
  {
   "cell_type": "markdown",
   "metadata": {},
   "source": [
    "## t tests"
   ]
  },
  {
   "cell_type": "code",
   "execution_count": 3,
   "metadata": {},
   "outputs": [],
   "source": [
    "test0_s = [1,2,1,2,1,4,3,2,4,3,2,3]\n",
    "ctrl0_s = [2,3,2,4,3,5,4,3,5,5,4,3]"
   ]
  },
  {
   "cell_type": "code",
   "execution_count": 4,
   "metadata": {},
   "outputs": [
    {
     "name": "stdout",
     "output_type": "stream",
     "text": [
      "-1.25\n"
     ]
    }
   ],
   "source": [
    "mean_d=np.mean(test0_s) - np.mean(ctrl0_s)\n",
    "print(mean_d)"
   ]
  },
  {
   "cell_type": "code",
   "execution_count": 5,
   "metadata": {},
   "outputs": [
    {
     "name": "stdout",
     "output_type": "stream",
     "text": [
      "(-2.8393466239285283, 0.009542324891921597, 21.997899382545775)\n"
     ]
    }
   ],
   "source": [
    "#//usevar='unequal' or 'pooled'\n",
    "\n",
    "cm0 = sms.CompareMeans(sms.DescrStatsW(test0_s), sms.DescrStatsW(ctrl0_s))\n",
    "print(cm0.ttest_ind(alternative='two-sided', usevar='unequal'))"
   ]
  },
  {
   "cell_type": "markdown",
   "metadata": {},
   "source": [
    "**The WeChat Experiment Example**"
   ]
  },
  {
   "cell_type": "code",
   "execution_count": 3,
   "metadata": {},
   "outputs": [],
   "source": [
    "#Population Characeristics\n",
    "lift = 1.001\n",
    "ctr0=0.5\n",
    "ctr1=ctr0*lift\n",
    "m0=30*ctr0\n",
    "m1=30*ctr1\n",
    "delta_p = m1-m0\n",
    "se_p_0 = np.sqrt(30*ctr0*(1-ctr0))\n",
    "se_p_1 = np.sqrt(30*ctr0*lift*(1-ctr0*lift))"
   ]
  },
  {
   "cell_type": "code",
   "execution_count": 59,
   "metadata": {},
   "outputs": [
    {
     "name": "stdout",
     "output_type": "stream",
     "text": [
      "0.014999999999998792 2.7386127875258306 2.7386114182190946\n"
     ]
    }
   ],
   "source": [
    "print(delta_p,se_p_0,se_p_1)"
   ]
  },
  {
   "cell_type": "code",
   "execution_count": 9,
   "metadata": {},
   "outputs": [],
   "source": [
    "#DRAW SAMPLES from Treatment and Control Populations, k=1000\n",
    "ctrl = np.random.binomial(30, p=ctr0, size=50) * 1.0\n",
    "test = np.random.binomial(30, p=ctr1, size=50) * 1.0"
   ]
  },
  {
   "cell_type": "code",
   "execution_count": 10,
   "metadata": {},
   "outputs": [
    {
     "name": "stdout",
     "output_type": "stream",
     "text": [
      "-0.620000000000001\n"
     ]
    }
   ],
   "source": [
    "#Sample characteristics\n",
    "delta_s = np.mean(test)-np.mean(ctrl)\n",
    "se0 = np.std(ctrl)\n",
    "se1 = np.std(test)\n",
    "print(delta_s)"
   ]
  },
  {
   "cell_type": "code",
   "execution_count": 11,
   "metadata": {},
   "outputs": [
    {
     "data": {
      "text/plain": [
       "<matplotlib.legend.Legend at 0x7f9f38cfd850>"
      ]
     },
     "execution_count": 11,
     "metadata": {},
     "output_type": "execute_result"
    },
    {
     "data": {
      "image/png": "[encoded data removed]",
      "text/plain": [
       "<Figure size 432x288 with 1 Axes>"
      ]
     },
     "metadata": {
      "needs_background": "light"
     },
     "output_type": "display_data"
    }
   ],
   "source": [
    "bins = np.linspace(0, 30, 30)\n",
    "plt.hist(test, bins=bins, label='Test')\n",
    "plt.hist(ctrl, bins=bins, label='Control', color='orange')\n",
    "plt.title('Test/Ctrl Data')\n",
    "plt.legend()"
   ]
  },
  {
   "cell_type": "code",
   "execution_count": 12,
   "metadata": {},
   "outputs": [],
   "source": [
    "cm = sms.CompareMeans(sms.DescrStatsW(test), sms.DescrStatsW(ctrl))\n",
    "se_s = cm.std_meandiff_separatevar"
   ]
  },
  {
   "cell_type": "code",
   "execution_count": 13,
   "metadata": {},
   "outputs": [
    {
     "name": "stdout",
     "output_type": "stream",
     "text": [
      "(-1.2026452604350089, 0.23201576184314465, 97.84757101932192)\n"
     ]
    }
   ],
   "source": [
    "print(cm.ttest_ind(alternative='two-sided', usevar='unequal'))"
   ]
  },
  {
   "cell_type": "markdown",
   "metadata": {},
   "source": [
    "# z tests"
   ]
  },
  {
   "cell_type": "code",
   "execution_count": 15,
   "metadata": {},
   "outputs": [
    {
     "name": "stdout",
     "output_type": "stream",
     "text": [
      "(-1.2026452604350089, 0.22911362509585143)\n"
     ]
    }
   ],
   "source": [
    "print(cm.ztest_ind(alternative='two-sided', usevar='unequal'))"
   ]
  },
  {
   "cell_type": "code",
   "execution_count": null,
   "metadata": {},
   "outputs": [],
   "source": []
  },
  {
   "cell_type": "code",
   "execution_count": null,
   "metadata": {},
   "outputs": [],
   "source": []
  }
 ],
 "metadata": {
  "kernelspec": {
   "display_name": "Python 3",
   "language": "python",
   "name": "python3"
  },
  "language_info": {
   "codemirror_mode": {
    "name": "ipython",
    "version": 3
   },
   "file_extension": ".py",
   "mimetype": "text/x-python",
   "name": "python",
   "nbconvert_exporter": "python",
   "pygments_lexer": "ipython3",
   "version": "3.8.5"
  }
 },
 "nbformat": 4,
 "nbformat_minor": 4
}
