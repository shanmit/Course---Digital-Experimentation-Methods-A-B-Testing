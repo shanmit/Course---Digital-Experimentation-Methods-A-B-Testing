{
 "cells": [
  {
   "cell_type": "markdown",
   "metadata": {},
   "source": [
    "### Import Data"
   ]
  },
  {
   "cell_type": "code",
   "execution_count": 1,
   "metadata": {},
   "outputs": [
    {
     "name": "stdout",
     "output_type": "stream",
     "text": [
      "Requirement already satisfied: termcolor in /Users/shan_huang/opt/anaconda3/lib/python3.8/site-packages (1.1.0)\n",
      "Note: you may need to restart the kernel to use updated packages.\n"
     ]
    }
   ],
   "source": [
    "pip install termcolor"
   ]
  },
  {
   "cell_type": "code",
   "execution_count": 2,
   "metadata": {},
   "outputs": [],
   "source": [
    "from termcolor import colored, cprint\n",
    "import itertools\n",
    "import numpy as np, statsmodels.stats.api as sms\n",
    "import matplotlib.pyplot as plt\n",
    "from matplotlib.ticker import NullFormatter\n",
    "import pandas as pd\n",
    "import matplotlib.ticker as ticker\n",
    "from sklearn import preprocessing\n",
    "from numpy import random"
   ]
  },
  {
   "cell_type": "code",
   "execution_count": 3,
   "metadata": {},
   "outputs": [],
   "source": [
    "df = pd.read_csv('exp_data.csv')"
   ]
  },
  {
   "cell_type": "code",
   "execution_count": 4,
   "metadata": {},
   "outputs": [
    {
     "data": {
      "text/html": [
       "<div>\n",
       "<style scoped>\n",
       "    .dataframe tbody tr th:only-of-type {\n",
       "        vertical-align: middle;\n",
       "    }\n",
       "\n",
       "    .dataframe tbody tr th {\n",
       "        vertical-align: top;\n",
       "    }\n",
       "\n",
       "    .dataframe thead th {\n",
       "        text-align: right;\n",
       "    }\n",
       "</style>\n",
       "<table border=\"1\" class=\"dataframe\">\n",
       "  <thead>\n",
       "    <tr style=\"text-align: right;\">\n",
       "      <th></th>\n",
       "      <th>Uin</th>\n",
       "      <th>gender</th>\n",
       "      <th>age</th>\n",
       "      <th>device</th>\n",
       "      <th>has_interest_online</th>\n",
       "      <th>interestss_TVShows</th>\n",
       "      <th>interests_Travel</th>\n",
       "      <th>interests_Society</th>\n",
       "      <th>interests_Pets</th>\n",
       "      <th>interests_Natural</th>\n",
       "      <th>...</th>\n",
       "      <th>interests_Fashion</th>\n",
       "      <th>interests_Tech</th>\n",
       "      <th>interests_Entertainment</th>\n",
       "      <th>interests_Health</th>\n",
       "      <th>interests_Cartoon</th>\n",
       "      <th>interests_Finance</th>\n",
       "      <th>interests_Realestate</th>\n",
       "      <th>interests_Videogames</th>\n",
       "      <th>interests_Art</th>\n",
       "      <th>Group</th>\n",
       "    </tr>\n",
       "  </thead>\n",
       "  <tbody>\n",
       "    <tr>\n",
       "      <th>0</th>\n",
       "      <td>137f94de7d47cb5bbb2bf3265558f5b8</td>\n",
       "      <td>2</td>\n",
       "      <td>41</td>\n",
       "      <td>2</td>\n",
       "      <td>1</td>\n",
       "      <td>0.796494</td>\n",
       "      <td>0.0</td>\n",
       "      <td>4.110483</td>\n",
       "      <td>0.000000</td>\n",
       "      <td>0.0</td>\n",
       "      <td>...</td>\n",
       "      <td>0.000000</td>\n",
       "      <td>0.000000</td>\n",
       "      <td>0.000000</td>\n",
       "      <td>2.261562</td>\n",
       "      <td>0.0</td>\n",
       "      <td>0.000000</td>\n",
       "      <td>0.000000</td>\n",
       "      <td>0.0</td>\n",
       "      <td>0.000000</td>\n",
       "      <td>0</td>\n",
       "    </tr>\n",
       "    <tr>\n",
       "      <th>1</th>\n",
       "      <td>337d0ac1a7b86b8acfb107490cfcc37b</td>\n",
       "      <td>2</td>\n",
       "      <td>27</td>\n",
       "      <td>14</td>\n",
       "      <td>1</td>\n",
       "      <td>38.714942</td>\n",
       "      <td>0.0</td>\n",
       "      <td>369.548390</td>\n",
       "      <td>0.000000</td>\n",
       "      <td>0.0</td>\n",
       "      <td>...</td>\n",
       "      <td>62.609615</td>\n",
       "      <td>120.487872</td>\n",
       "      <td>189.237181</td>\n",
       "      <td>291.606592</td>\n",
       "      <td>0.0</td>\n",
       "      <td>1125.921014</td>\n",
       "      <td>0.000000</td>\n",
       "      <td>0.0</td>\n",
       "      <td>0.000000</td>\n",
       "      <td>0</td>\n",
       "    </tr>\n",
       "    <tr>\n",
       "      <th>2</th>\n",
       "      <td>e7065ba7a831950c4711dd3fd3904ffe</td>\n",
       "      <td>2</td>\n",
       "      <td>37</td>\n",
       "      <td>2</td>\n",
       "      <td>1</td>\n",
       "      <td>0.000000</td>\n",
       "      <td>0.0</td>\n",
       "      <td>6.930192</td>\n",
       "      <td>0.000000</td>\n",
       "      <td>0.0</td>\n",
       "      <td>...</td>\n",
       "      <td>0.000000</td>\n",
       "      <td>0.000000</td>\n",
       "      <td>1.448855</td>\n",
       "      <td>5.620250</td>\n",
       "      <td>0.0</td>\n",
       "      <td>1.617699</td>\n",
       "      <td>0.000000</td>\n",
       "      <td>0.0</td>\n",
       "      <td>1.293002</td>\n",
       "      <td>1</td>\n",
       "    </tr>\n",
       "    <tr>\n",
       "      <th>3</th>\n",
       "      <td>36498084c61db712ad18e0c6def8579e</td>\n",
       "      <td>1</td>\n",
       "      <td>33</td>\n",
       "      <td>1</td>\n",
       "      <td>1</td>\n",
       "      <td>3.179579</td>\n",
       "      <td>0.0</td>\n",
       "      <td>455.546589</td>\n",
       "      <td>3.614626</td>\n",
       "      <td>0.0</td>\n",
       "      <td>...</td>\n",
       "      <td>0.000000</td>\n",
       "      <td>0.000000</td>\n",
       "      <td>0.000000</td>\n",
       "      <td>158.125969</td>\n",
       "      <td>0.0</td>\n",
       "      <td>0.000000</td>\n",
       "      <td>0.000000</td>\n",
       "      <td>0.0</td>\n",
       "      <td>0.000000</td>\n",
       "      <td>2</td>\n",
       "    </tr>\n",
       "    <tr>\n",
       "      <th>4</th>\n",
       "      <td>400dac9d50c6ca15e26d67590a758426</td>\n",
       "      <td>2</td>\n",
       "      <td>62</td>\n",
       "      <td>0</td>\n",
       "      <td>0</td>\n",
       "      <td>0.000000</td>\n",
       "      <td>0.0</td>\n",
       "      <td>5.914961</td>\n",
       "      <td>0.000000</td>\n",
       "      <td>0.0</td>\n",
       "      <td>...</td>\n",
       "      <td>0.000000</td>\n",
       "      <td>0.000000</td>\n",
       "      <td>0.000000</td>\n",
       "      <td>1.678389</td>\n",
       "      <td>0.0</td>\n",
       "      <td>0.000000</td>\n",
       "      <td>1.146208</td>\n",
       "      <td>0.0</td>\n",
       "      <td>0.492551</td>\n",
       "      <td>0</td>\n",
       "    </tr>\n",
       "  </tbody>\n",
       "</table>\n",
       "<p>5 rows × 28 columns</p>\n",
       "</div>"
      ],
      "text/plain": [
       "                                Uin  gender  age  device  has_interest_online  \\\n",
       "0  137f94de7d47cb5bbb2bf3265558f5b8       2   41       2                    1   \n",
       "1  337d0ac1a7b86b8acfb107490cfcc37b       2   27      14                    1   \n",
       "2  e7065ba7a831950c4711dd3fd3904ffe       2   37       2                    1   \n",
       "3  36498084c61db712ad18e0c6def8579e       1   33       1                    1   \n",
       "4  400dac9d50c6ca15e26d67590a758426       2   62       0                    0   \n",
       "\n",
       "   interestss_TVShows  interests_Travel  interests_Society  interests_Pets  \\\n",
       "0            0.796494               0.0           4.110483        0.000000   \n",
       "1           38.714942               0.0         369.548390        0.000000   \n",
       "2            0.000000               0.0           6.930192        0.000000   \n",
       "3            3.179579               0.0         455.546589        3.614626   \n",
       "4            0.000000               0.0           5.914961        0.000000   \n",
       "\n",
       "   interests_Natural  ...  interests_Fashion  interests_Tech  \\\n",
       "0                0.0  ...           0.000000        0.000000   \n",
       "1                0.0  ...          62.609615      120.487872   \n",
       "2                0.0  ...           0.000000        0.000000   \n",
       "3                0.0  ...           0.000000        0.000000   \n",
       "4                0.0  ...           0.000000        0.000000   \n",
       "\n",
       "   interests_Entertainment  interests_Health  interests_Cartoon  \\\n",
       "0                 0.000000          2.261562                0.0   \n",
       "1               189.237181        291.606592                0.0   \n",
       "2                 1.448855          5.620250                0.0   \n",
       "3                 0.000000        158.125969                0.0   \n",
       "4                 0.000000          1.678389                0.0   \n",
       "\n",
       "   interests_Finance  interests_Realestate  interests_Videogames  \\\n",
       "0           0.000000              0.000000                   0.0   \n",
       "1        1125.921014              0.000000                   0.0   \n",
       "2           1.617699              0.000000                   0.0   \n",
       "3           0.000000              0.000000                   0.0   \n",
       "4           0.000000              1.146208                   0.0   \n",
       "\n",
       "   interests_Art  Group  \n",
       "0       0.000000      0  \n",
       "1       0.000000      0  \n",
       "2       1.293002      1  \n",
       "3       0.000000      2  \n",
       "4       0.492551      0  \n",
       "\n",
       "[5 rows x 28 columns]"
      ]
     },
     "execution_count": 4,
     "metadata": {},
     "output_type": "execute_result"
    }
   ],
   "source": [
    "df.head()"
   ]
  },
  {
   "cell_type": "code",
   "execution_count": 5,
   "metadata": {},
   "outputs": [
    {
     "data": {
      "text/plain": [
       "Index(['Uin', 'gender', 'age', 'device', 'has_interest_online',\n",
       "       'interestss_TVShows', 'interests_Travel', 'interests_Society',\n",
       "       'interests_Pets', 'interests_Natural', 'interests_Cars',\n",
       "       'interests_Foods', 'interests_Music', 'interests_Digital',\n",
       "       'interests_Life', 'interests_Sports', 'interests_Reading',\n",
       "       'interests_Childproducts', 'interests_Fashion', 'interests_Tech',\n",
       "       'interests_Entertainment', 'interests_Health', 'interests_Cartoon',\n",
       "       'interests_Finance', 'interests_Realestate', 'interests_Videogames',\n",
       "       'interests_Art', 'Group'],\n",
       "      dtype='object')"
      ]
     },
     "execution_count": 5,
     "metadata": {},
     "output_type": "execute_result"
    }
   ],
   "source": [
    "df.columns"
   ]
  },
  {
   "cell_type": "code",
   "execution_count": 6,
   "metadata": {},
   "outputs": [
    {
     "data": {
      "text/plain": [
       "(10000, 28)"
      ]
     },
     "execution_count": 6,
     "metadata": {},
     "output_type": "execute_result"
    }
   ],
   "source": [
    "df.shape"
   ]
  },
  {
   "cell_type": "markdown",
   "metadata": {},
   "source": [
    "### Compare Age between Group 0 vs. 1"
   ]
  },
  {
   "cell_type": "code",
   "execution_count": 6,
   "metadata": {},
   "outputs": [],
   "source": [
    "age_0 = df[df['Group'] == 0]['age']\n",
    "age_1 = df[df['Group'] == 1]['age']"
   ]
  },
  {
   "cell_type": "code",
   "execution_count": 7,
   "metadata": {},
   "outputs": [
    {
     "name": "stdout",
     "output_type": "stream",
     "text": [
      "(-0.2258780702654209, 0.8213030931691397, 6750.0)\n"
     ]
    }
   ],
   "source": [
    "cm_age = sms.CompareMeans(sms.DescrStatsW(age_0), sms.DescrStatsW(age_1))\n",
    "print(cm_age.ttest_ind(alternative='two-sided', usevar='pooled'))"
   ]
  },
  {
   "cell_type": "markdown",
   "metadata": {},
   "source": [
    "### Multiple Testing with t tests"
   ]
  },
  {
   "cell_type": "code",
   "execution_count": 8,
   "metadata": {},
   "outputs": [],
   "source": [
    "def multi_cm(x):\n",
    "    x0 = df[df['Group'] == 0][x]\n",
    "    x1 = df[df['Group'] == 1][x]\n",
    "    x2 = df[df['Group'] == 2][x]\n",
    "    cm01 = sms.CompareMeans(sms.DescrStatsW(x0), sms.DescrStatsW(x1))\n",
    "    cm02 = sms.CompareMeans(sms.DescrStatsW(x0), sms.DescrStatsW(x2))\n",
    "    cm12 = sms.CompareMeans(sms.DescrStatsW(x1), sms.DescrStatsW(x2))\n",
    "    cprint(x,'red', 'on_yellow')\n",
    "    print(cm01.ttest_ind(alternative='two-sided', usevar='pooled'))  \n",
    "    print(cm02.ttest_ind(alternative='two-sided', usevar='pooled')) \n",
    "    print(cm12.ttest_ind(alternative='two-sided', usevar='pooled')) "
   ]
  },
  {
   "cell_type": "code",
   "execution_count": 9,
   "metadata": {},
   "outputs": [
    {
     "name": "stdout",
     "output_type": "stream",
     "text": [
      "\u001b[43m\u001b[31mgender\u001b[0m\n",
      "(1.338773515763321, 0.18068950041259244, 6750.0)\n",
      "(0.9053695111401618, 0.36530258109856395, 6626.0)\n",
      "(-0.41833581824238186, 0.6757151790218867, 6618.0)\n",
      "\u001b[43m\u001b[31mage\u001b[0m\n",
      "(-0.2258780702654209, 0.8213030931691397, 6750.0)\n",
      "(0.9497330944934246, 0.3422825277496915, 6626.0)\n",
      "(1.1687121493699624, 0.24256172111339383, 6618.0)\n",
      "\u001b[43m\u001b[31mdevice\u001b[0m\n",
      "(0.10889071847020237, 0.9132924051645153, 6750.0)\n",
      "(0.5134641434648958, 0.6076438065780314, 6626.0)\n",
      "(0.41388040743233595, 0.6789751051271262, 6618.0)\n",
      "\u001b[43m\u001b[31mhas_interest_online\u001b[0m\n",
      "(-1.2845094396946113, 0.19900784380497932, 6750.0)\n",
      "(-1.6808531965006905, 0.0928385650413649, 6626.0)\n",
      "(-0.40792621277474284, 0.6833410435536809, 6618.0)\n",
      "\u001b[43m\u001b[31minterestss_TVShows\u001b[0m\n",
      "(-0.5234272052816967, 0.6006941789213049, 6750.0)\n",
      "(0.23350129033532566, 0.8153793808681323, 6626.0)\n",
      "(0.6736860794427328, 0.5005344408716177, 6618.0)\n",
      "\u001b[43m\u001b[31minterests_Travel\u001b[0m\n",
      "(0.06482087845276627, 0.9483185373224183, 6750.0)\n",
      "(-0.5013152001110853, 0.6161659636359065, 6626.0)\n",
      "(-0.5394472710402294, 0.5895964190860086, 6618.0)\n",
      "\u001b[43m\u001b[31minterests_Society\u001b[0m\n",
      "(-0.6847791455098242, 0.4935068089879331, 6750.0)\n",
      "(1.2351380997665236, 0.2168229057175556, 6626.0)\n",
      "(1.9446141119994387, 0.0518637481483557, 6618.0)\n",
      "\u001b[43m\u001b[31minterests_Pets\u001b[0m\n",
      "(0.9707276306009271, 0.3317187109438976, 6750.0)\n",
      "(0.31475064308464806, 0.7529608999543934, 6626.0)\n",
      "(-0.6519002384228214, 0.5144881696069725, 6618.0)\n",
      "\u001b[43m\u001b[31minterests_Natural\u001b[0m\n",
      "(-1.0612678410854939, 0.2886061658249812, 6750.0)\n",
      "(-1.8427709795172764, 0.06540709922408983, 6626.0)\n",
      "(-1.3663540716083276, 0.17187427850386666, 6618.0)\n",
      "\u001b[43m\u001b[31minterests_Cars\u001b[0m\n",
      "(0.6187802423559168, 0.5360820204981972, 6750.0)\n",
      "(-1.3893444622272728, 0.1647747146564894, 6626.0)\n",
      "(-1.7725664974397572, 0.07634656053156527, 6618.0)\n",
      "\u001b[43m\u001b[31minterests_Foods\u001b[0m\n",
      "(1.0184637185219496, 0.30849413623581146, 6750.0)\n",
      "(2.0767837483140696, 0.0378599681773576, 6626.0)\n",
      "(1.016626487214549, 0.3093683127187254, 6618.0)\n",
      "\u001b[43m\u001b[31minterests_Music\u001b[0m\n",
      "(-0.3262239225314997, 0.7442650563623125, 6750.0)\n",
      "(0.715621661229616, 0.4742502108804256, 6626.0)\n",
      "(0.9673603471637798, 0.33339927465462404, 6618.0)\n",
      "\u001b[43m\u001b[31minterests_Digital\u001b[0m\n",
      "(-1.7427156587400412, 0.08142883367459604, 6750.0)\n",
      "(-2.227313101078629, 0.025959817302320727, 6626.0)\n",
      "(-0.45167712090086354, 0.6515164041179344, 6618.0)\n",
      "\u001b[43m\u001b[31minterests_Life\u001b[0m\n",
      "(0.27387057610143695, 0.7841924640867347, 6750.0)\n",
      "(1.7190916772349614, 0.08564438610483052, 6626.0)\n",
      "(1.4489976215244424, 0.14738562626501506, 6618.0)\n"
     ]
    }
   ],
   "source": [
    "var = df.columns\n",
    "for i in range(14):\n",
    "    multi_cm(var[i+1])"
   ]
  },
  {
   "cell_type": "markdown",
   "metadata": {},
   "source": [
    "### Multiple Testing with CIs"
   ]
  },
  {
   "cell_type": "code",
   "execution_count": 10,
   "metadata": {},
   "outputs": [],
   "source": [
    "def multi_cm(x):\n",
    "    x0 = df[df['Group'] == 0][x]\n",
    "    x1 = df[df['Group'] == 1][x]\n",
    "    x2 = df[df['Group'] == 2][x]\n",
    "    cm01 = sms.CompareMeans(sms.DescrStatsW(x0), sms.DescrStatsW(x1))\n",
    "    cm02 = sms.CompareMeans(sms.DescrStatsW(x0), sms.DescrStatsW(x2))\n",
    "    cm12 = sms.CompareMeans(sms.DescrStatsW(x1), sms.DescrStatsW(x2))\n",
    "    cprint(x,'red', 'on_yellow')\n",
    "    print(cm01.zconfint_diff(alpha=0.05, alternative='two-sided', usevar='pooled'))\n",
    "    print(cm02.zconfint_diff(alpha=0.05, alternative='two-sided', usevar='pooled'))\n",
    "    print(cm12.zconfint_diff(alpha=0.05, alternative='two-sided', usevar='pooled'))"
   ]
  },
  {
   "cell_type": "code",
   "execution_count": 11,
   "metadata": {},
   "outputs": [
    {
     "name": "stdout",
     "output_type": "stream",
     "text": [
      "\u001b[43m\u001b[31mgender\u001b[0m\n",
      "(-0.00755761848672714, 0.04013358344703349)\n",
      "(-0.012993350685755072, 0.03530293765051445)\n",
      "(-0.029182923978018634, 0.018916545982471663)\n",
      "\u001b[43m\u001b[31mage\u001b[0m\n",
      "(-0.7642663066007759, 0.6063125348501205)\n",
      "(-0.3598776790635133, 1.0365304029973976)\n",
      "(-0.28252633538176, 1.1171328310662996)\n",
      "\u001b[43m\u001b[31mdevice\u001b[0m\n",
      "(-0.0779825235473426, 0.08715727980668687)\n",
      "(-0.06048222514523573, 0.1034209839991136)\n",
      "(-0.06306407475614212, 0.09682807735067572)\n",
      "\u001b[43m\u001b[31mhas_interest_online\u001b[0m\n",
      "(-0.03812695208476372, 0.007937504703966848)\n",
      "(-0.04324119211221372, 0.0033149379949782252)\n",
      "(-0.028259631892169006, 0.018522825155730387)\n",
      "\u001b[43m\u001b[31minterestss_TVShows\u001b[0m\n",
      "(-2.2203402873774665, 1.2843729567695452)\n",
      "(-1.4700744002895791, 1.867724775833508)\n",
      "(-1.2731471241684726, 2.606764830320323)\n",
      "\u001b[43m\u001b[31minterests_Travel\u001b[0m\n",
      "(-0.9902440329339546, 1.0579840235354163)\n",
      "(-1.4302725552067663, 0.8476345702936463)\n",
      "(-1.5066922381941543, 0.8563142626795726)\n",
      "\u001b[43m\u001b[31minterests_Society\u001b[0m\n",
      "(-18.002333285345074, 8.679974327869173)\n",
      "(-4.839505220035202, 21.333003608691918)\n",
      "(-0.10188914020129225, 25.91774648633391)\n",
      "\u001b[43m\u001b[31minterests_Pets\u001b[0m\n",
      "(-0.5937913501693202, 1.7591542447413473)\n",
      "(-1.1483538385538703, 1.5877437949394773)\n",
      "(-1.4543197197440776, 0.7283467815576574)\n",
      "\u001b[43m\u001b[31minterests_Natural\u001b[0m\n",
      "(-0.01627155560873128, 0.00484013975675153)\n",
      "(-0.04742375429868649, 0.0014615092369716746)\n",
      "(-0.042031755560590536, 0.007500926350855475)\n",
      "\u001b[43m\u001b[31minterests_Cars\u001b[0m\n",
      "(-1.2575971667146193, 2.418029186772535)\n",
      "(-4.837229964177681, 0.824115752653428)\n",
      "(-5.447022449426756, 0.2734762178445882)\n",
      "\u001b[43m\u001b[31minterests_Foods\u001b[0m\n",
      "(-1.0414254980968631, 3.2945402844391736)\n",
      "(0.11601246330335302, 4.008851183165975)\n",
      "(-0.8684068866688182, 2.740155746795835)\n",
      "\u001b[43m\u001b[31minterests_Music\u001b[0m\n",
      "(-2.809851661049954, 2.007957094322481)\n",
      "(-1.4951288755817855, 3.2148270481067356)\n",
      "(-1.2936968795040942, 3.815289618756517)\n",
      "\u001b[43m\u001b[31minterests_Digital\u001b[0m\n",
      "(-2.8099268125223746, 0.1648675971060436)\n",
      "(-3.342235657330044, -0.21339494186324837)\n",
      "(-2.430908360130023, 1.520336976353062)\n",
      "\u001b[43m\u001b[31minterests_Life\u001b[0m\n",
      "(-3.7439323420447472, 4.9601792027096145)\n",
      "(-0.5141038063684737, 7.852361862272196)\n",
      "(-1.0794157796756902, 7.201426974914545)\n"
     ]
    }
   ],
   "source": [
    "for i in range(14):\n",
    "    multi_cm(var[i+1])"
   ]
  },
  {
   "cell_type": "code",
   "execution_count": null,
   "metadata": {},
   "outputs": [],
   "source": []
  },
  {
   "cell_type": "code",
   "execution_count": null,
   "metadata": {},
   "outputs": [],
   "source": []
  }
 ],
 "metadata": {
  "kernelspec": {
   "display_name": "Python 3",
   "language": "python",
   "name": "python3"
  },
  "language_info": {
   "codemirror_mode": {
    "name": "ipython",
    "version": 3
   },
   "file_extension": ".py",
   "mimetype": "text/x-python",
   "name": "python",
   "nbconvert_exporter": "python",
   "pygments_lexer": "ipython3",
   "version": "3.8.5"
  }
 },
 "nbformat": 4,
 "nbformat_minor": 4
}
